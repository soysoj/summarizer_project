{
 "cells": [
  {
   "cell_type": "code",
   "execution_count": 39,
   "id": "0f5ab36d",
   "metadata": {},
   "outputs": [
    {
     "name": "stdout",
     "output_type": "stream",
     "text": [
      "3.6.5\n",
      "2.6.0\n",
      "1.3.3\n",
      "1.2.0\n"
     ]
    }
   ],
   "source": [
    "from importlib.metadata import version\n",
    "import nltk\n",
    "import tensorflow\n",
    "import summa\n",
    "import pandas as pd\n",
    "\n",
    "print(nltk.__version__)\n",
    "print(tensorflow.__version__)\n",
    "print(pandas.__version__)\n",
    "print(version('summa'))"
   ]
  },
  {
   "cell_type": "code",
   "execution_count": 40,
   "id": "9a6374b2",
   "metadata": {},
   "outputs": [
    {
     "name": "stderr",
     "output_type": "stream",
     "text": [
      "[nltk_data] Downloading package stopwords to /aiffel/nltk_data...\n",
      "[nltk_data]   Package stopwords is already up-to-date!\n"
     ]
    }
   ],
   "source": [
    "# NLTK 패키지의 불용어 사전 다운 & 데이터 전처리를 위한 패키지\n",
    "nltk.download('stopwords')\n",
    "\n",
    "import numpy as np\n",
    "import os\n",
    "import re\n",
    "import matplotlib.pyplot as plt\n",
    "from nltk.corpus import stopwords\n",
    "from bs4 import BeautifulSoup \n",
    "from tensorflow.keras.preprocessing.text import Tokenizer \n",
    "from tensorflow.keras.preprocessing.sequence import pad_sequences\n",
    "import urllib.request\n",
    "import warnings\n",
    "warnings.filterwarnings(\"ignore\", category=UserWarning, module='bs4')\n"
   ]
  },
  {
   "cell_type": "code",
   "execution_count": 41,
   "id": "d2e8ea5e",
   "metadata": {},
   "outputs": [],
   "source": [
    "import urllib.request\n",
    "urllib.request.urlretrieve(\"https://raw.githubusercontent.com/sunnysai12345/News_Summary/master/news_summary_more.csv\", filename=\"news_summary_more.csv\")\n",
    "data = pd.read_csv('news_summary_more.csv', encoding='iso-8859-1')"
   ]
  },
  {
   "cell_type": "code",
   "execution_count": 42,
   "id": "151b6541",
   "metadata": {},
   "outputs": [
    {
     "data": {
      "text/html": [
       "<div>\n",
       "<style scoped>\n",
       "    .dataframe tbody tr th:only-of-type {\n",
       "        vertical-align: middle;\n",
       "    }\n",
       "\n",
       "    .dataframe tbody tr th {\n",
       "        vertical-align: top;\n",
       "    }\n",
       "\n",
       "    .dataframe thead th {\n",
       "        text-align: right;\n",
       "    }\n",
       "</style>\n",
       "<table border=\"1\" class=\"dataframe\">\n",
       "  <thead>\n",
       "    <tr style=\"text-align: right;\">\n",
       "      <th></th>\n",
       "      <th>headlines</th>\n",
       "      <th>text</th>\n",
       "    </tr>\n",
       "  </thead>\n",
       "  <tbody>\n",
       "    <tr>\n",
       "      <th>50181</th>\n",
       "      <td>England edge out Australia by 12 runs to clinc...</td>\n",
       "      <td>England edged out Australia by 12 runs in the ...</td>\n",
       "    </tr>\n",
       "    <tr>\n",
       "      <th>52773</th>\n",
       "      <td>I-T dept attaches Benami properties worth Ã¢Â...</td>\n",
       "      <td>The Finance Ministry on Thursday said the Inco...</td>\n",
       "    </tr>\n",
       "    <tr>\n",
       "      <th>95635</th>\n",
       "      <td>Cannes poster slammed for retouching actress' ...</td>\n",
       "      <td>The organisers of Cannes Film Festival 2017 ha...</td>\n",
       "    </tr>\n",
       "    <tr>\n",
       "      <th>27718</th>\n",
       "      <td>Tharoor accepts friend's challenge, finds rhym...</td>\n",
       "      <td>Congress leader Shashi Tharoor on Monday tweet...</td>\n",
       "    </tr>\n",
       "    <tr>\n",
       "      <th>92413</th>\n",
       "      <td>UK may reverse Brexit post polls: EU Parliamen...</td>\n",
       "      <td>European Parliament President Antonio Tajani h...</td>\n",
       "    </tr>\n",
       "    <tr>\n",
       "      <th>43584</th>\n",
       "      <td>Navi Mumbai junctions get buttons to change tr...</td>\n",
       "      <td>In a first, the Navi Mumbai Municipal Corporat...</td>\n",
       "    </tr>\n",
       "    <tr>\n",
       "      <th>42222</th>\n",
       "      <td>New actor in Mogul could be bigger than Akshay...</td>\n",
       "      <td>Bhushan Kumar has announced that Akshay Kumar ...</td>\n",
       "    </tr>\n",
       "    <tr>\n",
       "      <th>86705</th>\n",
       "      <td>Airline to allow passengers' photos as boardin...</td>\n",
       "      <td>JetBlue Airways on Wednesday announced that it...</td>\n",
       "    </tr>\n",
       "    <tr>\n",
       "      <th>13589</th>\n",
       "      <td>Shibani defends Farhan over Amrita's remark on...</td>\n",
       "      <td>Defending Farhan Akhtar and reacting to Amrita...</td>\n",
       "    </tr>\n",
       "    <tr>\n",
       "      <th>25855</th>\n",
       "      <td>Video: Musk's Boring Company making bricks fro...</td>\n",
       "      <td>Elon Musk's tunnelling startup The Boring Comp...</td>\n",
       "    </tr>\n",
       "  </tbody>\n",
       "</table>\n",
       "</div>"
      ],
      "text/plain": [
       "                                               headlines  \\\n",
       "50181  England edge out Australia by 12 runs to clinc...   \n",
       "52773  I-T dept attaches Benami properties worth Ã¢Â...   \n",
       "95635  Cannes poster slammed for retouching actress' ...   \n",
       "27718  Tharoor accepts friend's challenge, finds rhym...   \n",
       "92413  UK may reverse Brexit post polls: EU Parliamen...   \n",
       "43584  Navi Mumbai junctions get buttons to change tr...   \n",
       "42222  New actor in Mogul could be bigger than Akshay...   \n",
       "86705  Airline to allow passengers' photos as boardin...   \n",
       "13589  Shibani defends Farhan over Amrita's remark on...   \n",
       "25855  Video: Musk's Boring Company making bricks fro...   \n",
       "\n",
       "                                                    text  \n",
       "50181  England edged out Australia by 12 runs in the ...  \n",
       "52773  The Finance Ministry on Thursday said the Inco...  \n",
       "95635  The organisers of Cannes Film Festival 2017 ha...  \n",
       "27718  Congress leader Shashi Tharoor on Monday tweet...  \n",
       "92413  European Parliament President Antonio Tajani h...  \n",
       "43584  In a first, the Navi Mumbai Municipal Corporat...  \n",
       "42222  Bhushan Kumar has announced that Akshay Kumar ...  \n",
       "86705  JetBlue Airways on Wednesday announced that it...  \n",
       "13589  Defending Farhan Akhtar and reacting to Amrita...  \n",
       "25855  Elon Musk's tunnelling startup The Boring Comp...  "
      ]
     },
     "execution_count": 42,
     "metadata": {},
     "output_type": "execute_result"
    }
   ],
   "source": [
    "data.sample(10)"
   ]
  },
  {
   "cell_type": "code",
   "execution_count": 43,
   "id": "ff9279ae",
   "metadata": {},
   "outputs": [
    {
     "name": "stdout",
     "output_type": "stream",
     "text": [
      "전체 샘플수 : 98401\n"
     ]
    }
   ],
   "source": [
    "print('전체 샘플수 :', (len(data)))"
   ]
  },
  {
   "cell_type": "markdown",
   "id": "41369cff",
   "metadata": {},
   "source": [
    "## 데이터 전처리"
   ]
  },
  {
   "cell_type": "markdown",
   "id": "9d2e1eb6",
   "metadata": {},
   "source": [
    "#### 중복 데이터"
   ]
  },
  {
   "cell_type": "code",
   "execution_count": 44,
   "id": "40a68d59",
   "metadata": {},
   "outputs": [
    {
     "name": "stdout",
     "output_type": "stream",
     "text": [
      "Text 열에서 중복을 배제한 유일한 샘플의 수 : 98360\n",
      "Headlines 열에서 중복을 배제한 유일한 샘플의 수 : 98280\n"
     ]
    }
   ],
   "source": [
    "print('Text 열에서 중복을 배제한 유일한 샘플의 수 :', data['text'].nunique())\n",
    "print('Headlines 열에서 중복을 배제한 유일한 샘플의 수 :', data['headlines'].nunique())"
   ]
  },
  {
   "cell_type": "code",
   "execution_count": 45,
   "id": "1b186b6e",
   "metadata": {},
   "outputs": [
    {
     "name": "stdout",
     "output_type": "stream",
     "text": [
      "전체 샘플수 : 98360\n"
     ]
    }
   ],
   "source": [
    "# inplace=True 를 설정하면 DataFrame 타입 값을 return 하지 않고 data 내부를 직접적으로 바꿉니다\n",
    "data.drop_duplicates(subset = ['text'], inplace=True)\n",
    "print('전체 샘플수 :', (len(data)))"
   ]
  },
  {
   "cell_type": "markdown",
   "id": "14cd25e4",
   "metadata": {},
   "source": [
    "#### 결측치 확인"
   ]
  },
  {
   "cell_type": "code",
   "execution_count": 46,
   "id": "efdc9e5d",
   "metadata": {},
   "outputs": [
    {
     "name": "stdout",
     "output_type": "stream",
     "text": [
      "headlines    0\n",
      "text         0\n",
      "dtype: int64\n"
     ]
    }
   ],
   "source": [
    "print(data.isnull().sum())"
   ]
  },
  {
   "cell_type": "code",
   "execution_count": 47,
   "id": "3f29cb14",
   "metadata": {},
   "outputs": [
    {
     "name": "stdout",
     "output_type": "stream",
     "text": [
      "전체 샘플수 : 98360\n"
     ]
    }
   ],
   "source": [
    "data.dropna(axis=0, inplace=True)\n",
    "print('전체 샘플수 :', (len(data)))"
   ]
  },
  {
   "cell_type": "markdown",
   "id": "b31ffb26",
   "metadata": {},
   "source": [
    "#### 텍스트 정규화와 불용어 제거"
   ]
  },
  {
   "cell_type": "code",
   "execution_count": 48,
   "id": "59ba64d2",
   "metadata": {},
   "outputs": [
    {
     "name": "stdout",
     "output_type": "stream",
     "text": [
      "정규화 사전의 수:  120\n"
     ]
    }
   ],
   "source": [
    "contractions = {\"ain't\": \"is not\", \"aren't\": \"are not\",\"can't\": \"cannot\", \"'cause\": \"because\", \"could've\": \"could have\", \"couldn't\": \"could not\",\n",
    "                           \"didn't\": \"did not\",  \"doesn't\": \"does not\", \"don't\": \"do not\", \"hadn't\": \"had not\", \"hasn't\": \"has not\", \"haven't\": \"have not\",\n",
    "                           \"he'd\": \"he would\",\"he'll\": \"he will\", \"he's\": \"he is\", \"how'd\": \"how did\", \"how'd'y\": \"how do you\", \"how'll\": \"how will\", \"how's\": \"how is\",\n",
    "                           \"I'd\": \"I would\", \"I'd've\": \"I would have\", \"I'll\": \"I will\", \"I'll've\": \"I will have\",\"I'm\": \"I am\", \"I've\": \"I have\", \"i'd\": \"i would\",\n",
    "                           \"i'd've\": \"i would have\", \"i'll\": \"i will\",  \"i'll've\": \"i will have\",\"i'm\": \"i am\", \"i've\": \"i have\", \"isn't\": \"is not\", \"it'd\": \"it would\",\n",
    "                           \"it'd've\": \"it would have\", \"it'll\": \"it will\", \"it'll've\": \"it will have\",\"it's\": \"it is\", \"let's\": \"let us\", \"ma'am\": \"madam\",\n",
    "                           \"mayn't\": \"may not\", \"might've\": \"might have\",\"mightn't\": \"might not\",\"mightn't've\": \"might not have\", \"must've\": \"must have\",\n",
    "                           \"mustn't\": \"must not\", \"mustn't've\": \"must not have\", \"needn't\": \"need not\", \"needn't've\": \"need not have\",\"o'clock\": \"of the clock\",\n",
    "                           \"oughtn't\": \"ought not\", \"oughtn't've\": \"ought not have\", \"shan't\": \"shall not\", \"sha'n't\": \"shall not\", \"shan't've\": \"shall not have\",\n",
    "                           \"she'd\": \"she would\", \"she'd've\": \"she would have\", \"she'll\": \"she will\", \"she'll've\": \"she will have\", \"she's\": \"she is\",\n",
    "                           \"should've\": \"should have\", \"shouldn't\": \"should not\", \"shouldn't've\": \"should not have\", \"so've\": \"so have\",\"so's\": \"so as\",\n",
    "                           \"this's\": \"this is\",\"that'd\": \"that would\", \"that'd've\": \"that would have\", \"that's\": \"that is\", \"there'd\": \"there would\",\n",
    "                           \"there'd've\": \"there would have\", \"there's\": \"there is\", \"here's\": \"here is\",\"they'd\": \"they would\", \"they'd've\": \"they would have\",\n",
    "                           \"they'll\": \"they will\", \"they'll've\": \"they will have\", \"they're\": \"they are\", \"they've\": \"they have\", \"to've\": \"to have\",\n",
    "                           \"wasn't\": \"was not\", \"we'd\": \"we would\", \"we'd've\": \"we would have\", \"we'll\": \"we will\", \"we'll've\": \"we will have\", \"we're\": \"we are\",\n",
    "                           \"we've\": \"we have\", \"weren't\": \"were not\", \"what'll\": \"what will\", \"what'll've\": \"what will have\", \"what're\": \"what are\",\n",
    "                           \"what's\": \"what is\", \"what've\": \"what have\", \"when's\": \"when is\", \"when've\": \"when have\", \"where'd\": \"where did\", \"where's\": \"where is\",\n",
    "                           \"where've\": \"where have\", \"who'll\": \"who will\", \"who'll've\": \"who will have\", \"who's\": \"who is\", \"who've\": \"who have\",\n",
    "                           \"why's\": \"why is\", \"why've\": \"why have\", \"will've\": \"will have\", \"won't\": \"will not\", \"won't've\": \"will not have\",\n",
    "                           \"would've\": \"would have\", \"wouldn't\": \"would not\", \"wouldn't've\": \"would not have\", \"y'all\": \"you all\",\n",
    "                           \"y'all'd\": \"you all would\",\"y'all'd've\": \"you all would have\",\"y'all're\": \"you all are\",\"y'all've\": \"you all have\",\n",
    "                           \"you'd\": \"you would\", \"you'd've\": \"you would have\", \"you'll\": \"you will\", \"you'll've\": \"you will have\",\n",
    "                           \"you're\": \"you are\", \"you've\": \"you have\"}\n",
    "\n",
    "print(\"정규화 사전의 수: \", len(contractions))"
   ]
  },
  {
   "cell_type": "code",
   "execution_count": 49,
   "id": "9808e463",
   "metadata": {},
   "outputs": [
    {
     "name": "stdout",
     "output_type": "stream",
     "text": [
      "불용어 개수 : 179\n",
      "['i', 'me', 'my', 'myself', 'we', 'our', 'ours', 'ourselves', 'you', \"you're\", \"you've\", \"you'll\", \"you'd\", 'your', 'yours', 'yourself', 'yourselves', 'he', 'him', 'his', 'himself', 'she', \"she's\", 'her', 'hers', 'herself', 'it', \"it's\", 'its', 'itself', 'they', 'them', 'their', 'theirs', 'themselves', 'what', 'which', 'who', 'whom', 'this', 'that', \"that'll\", 'these', 'those', 'am', 'is', 'are', 'was', 'were', 'be', 'been', 'being', 'have', 'has', 'had', 'having', 'do', 'does', 'did', 'doing', 'a', 'an', 'the', 'and', 'but', 'if', 'or', 'because', 'as', 'until', 'while', 'of', 'at', 'by', 'for', 'with', 'about', 'against', 'between', 'into', 'through', 'during', 'before', 'after', 'above', 'below', 'to', 'from', 'up', 'down', 'in', 'out', 'on', 'off', 'over', 'under', 'again', 'further', 'then', 'once', 'here', 'there', 'when', 'where', 'why', 'how', 'all', 'any', 'both', 'each', 'few', 'more', 'most', 'other', 'some', 'such', 'no', 'nor', 'not', 'only', 'own', 'same', 'so', 'than', 'too', 'very', 's', 't', 'can', 'will', 'just', 'don', \"don't\", 'should', \"should've\", 'now', 'd', 'll', 'm', 'o', 're', 've', 'y', 'ain', 'aren', \"aren't\", 'couldn', \"couldn't\", 'didn', \"didn't\", 'doesn', \"doesn't\", 'hadn', \"hadn't\", 'hasn', \"hasn't\", 'haven', \"haven't\", 'isn', \"isn't\", 'ma', 'mightn', \"mightn't\", 'mustn', \"mustn't\", 'needn', \"needn't\", 'shan', \"shan't\", 'shouldn', \"shouldn't\", 'wasn', \"wasn't\", 'weren', \"weren't\", 'won', \"won't\", 'wouldn', \"wouldn't\"]\n"
     ]
    }
   ],
   "source": [
    "print('불용어 개수 :', len(stopwords.words('english') ))\n",
    "print(stopwords.words('english'))"
   ]
  },
  {
   "cell_type": "code",
   "execution_count": 50,
   "id": "20168770",
   "metadata": {},
   "outputs": [],
   "source": [
    "# 데이터 전처리 함수\n",
    "def preprocess_sentence(sentence, remove_stopwords=True):\n",
    "    sentence = sentence.lower() # 텍스트 소문자화\n",
    "    sentence = BeautifulSoup(sentence, \"lxml\").text # <br />, <a href = ...> 등의 html 태그 제거\n",
    "    sentence = re.sub(r'\\([^)]*\\)', '', sentence) # 괄호로 닫힌 문자열 (...) 제거 Ex) my husband (and myself!) for => my husband for\n",
    "    sentence = re.sub('\"','', sentence) # 쌍따옴표 \" 제거\n",
    "    sentence = ' '.join([contractions[t] if t in contractions else t for t in sentence.split(\" \")]) # 약어 정규화\n",
    "    sentence = re.sub(r\"'s\\b\",\"\", sentence) # 소유격 제거. Ex) roland's -> roland\n",
    "    sentence = re.sub(\"[^a-zA-Z]\", \" \", sentence) # 영어 외 문자(숫자, 특수문자 등) 공백으로 변환\n",
    "    sentence = re.sub('[m]{2,}', 'mm', sentence) # m이 3개 이상이면 2개로 변경. Ex) ummmmmmm yeah -> umm yeah\n",
    "    \n",
    "    # 불용어 제거 (Text)\n",
    "    if remove_stopwords:\n",
    "        tokens = ' '.join(word for word in sentence.split() if not word in stopwords.words('english') if len(word) > 1)\n",
    "    # 불용어 미제거 (Summary)\n",
    "    else:\n",
    "        tokens = ' '.join(word for word in sentence.split() if len(word) > 1)\n",
    "    return tokens"
   ]
  },
  {
   "cell_type": "code",
   "execution_count": 51,
   "id": "4600c77e",
   "metadata": {},
   "outputs": [],
   "source": [
    "# text 전처리\n",
    "data['text'] = data['text'].map(lambda x: preprocess_sentence(x, True))"
   ]
  },
  {
   "cell_type": "code",
   "execution_count": 52,
   "id": "9e119e2a",
   "metadata": {},
   "outputs": [
    {
     "name": "stdout",
     "output_type": "stream",
     "text": [
      "Text 전처리 후 결과: \n",
      "<bound method NDFrame.head of 0        saurav kant alumnus upgrad iiit pg program mac...\n",
      "1        kunal shah credit card bill payment platform c...\n",
      "2        new zealand defeated india wickets fourth odi ...\n",
      "3        aegon life iterm insurance plan customers enjo...\n",
      "4        speaking sexual harassment allegations rajkuma...\n",
      "                               ...                        \n",
      "98396    crpf jawan tuesday axed death sharp edged weap...\n",
      "98397    uff yeh first song sonakshi sinha starrer upco...\n",
      "98398    according reports new version science fiction ...\n",
      "98399    new music video shows rapper snoop dogg aiming...\n",
      "98400    madhesi morcha alliance seven political partie...\n",
      "Name: text, Length: 98360, dtype: object>\n"
     ]
    }
   ],
   "source": [
    "print(\"Text 전처리 후 결과: \")\n",
    "print(data[\"text\"].head)"
   ]
  },
  {
   "cell_type": "code",
   "execution_count": 53,
   "id": "54c974a3",
   "metadata": {},
   "outputs": [],
   "source": [
    "# headlines 전처리\n",
    "data['headlines'] = data['headlines'].map(lambda x: preprocess_sentence(x, False))"
   ]
  },
  {
   "cell_type": "code",
   "execution_count": 54,
   "id": "d027b230",
   "metadata": {},
   "outputs": [
    {
     "name": "stdout",
     "output_type": "stream",
     "text": [
      "Headlines 전처리 후 결과: \n",
      "<bound method NDFrame.head of 0        upgrad learner switches to career in ml al wit...\n",
      "1        delhi techie wins free food from swiggy for on...\n",
      "2        new zealand end rohit sharma led india match w...\n",
      "3        aegon life iterm insurance plan helps customer...\n",
      "4        have known hirani for yrs what if metoo claims...\n",
      "                               ...                        \n",
      "98396    crpf jawan axed to death by maoists in chhatti...\n",
      "98397    first song from sonakshi sinha noor titled uff...\n",
      "98398                the matrix film to get reboot reports\n",
      "98399    snoop dogg aims gun at clown dressed as trump ...\n",
      "98400    madhesi morcha withdraws support to nepalese g...\n",
      "Name: headlines, Length: 98360, dtype: object>\n"
     ]
    }
   ],
   "source": [
    "print(\"Headlines 전처리 후 결과: \")\n",
    "print(data[\"headlines\"].head)"
   ]
  },
  {
   "cell_type": "code",
   "execution_count": 55,
   "id": "2f4b8ad8",
   "metadata": {},
   "outputs": [],
   "source": [
    "# 빈 값을 Null 값으로 변환\n",
    "data.replace('', np.nan, inplace=True)"
   ]
  },
  {
   "cell_type": "code",
   "execution_count": 56,
   "id": "59f96d07",
   "metadata": {},
   "outputs": [
    {
     "data": {
      "text/plain": [
       "headlines    0\n",
       "text         0\n",
       "dtype: int64"
      ]
     },
     "execution_count": 56,
     "metadata": {},
     "output_type": "execute_result"
    }
   ],
   "source": [
    "data.isnull().sum()"
   ]
  },
  {
   "cell_type": "code",
   "execution_count": 57,
   "id": "b85f34cb",
   "metadata": {},
   "outputs": [
    {
     "name": "stdout",
     "output_type": "stream",
     "text": [
      "전체 샘플수 : 98360\n"
     ]
    }
   ],
   "source": [
    "data.dropna(axis=0, inplace=True)\n",
    "print('전체 샘플수 :', (len(data)))"
   ]
  },
  {
   "cell_type": "code",
   "execution_count": 58,
   "id": "7a560112",
   "metadata": {},
   "outputs": [
    {
     "name": "stdout",
     "output_type": "stream",
     "text": [
      "텍스트의 최소 길이 : 1\n",
      "텍스트의 최대 길이 : 60\n",
      "텍스트의 평균 길이 : 35.09968483123221\n",
      "요약의 최소 길이 : 1\n",
      "요약의 최대 길이 : 16\n",
      "요약의 평균 길이 : 9.299532330215534\n"
     ]
    },
    {
     "data": {
      "image/png": "[encoded data removed]",
      "text/plain": [
       "<Figure size 432x288 with 2 Axes>"
      ]
     },
     "metadata": {
      "needs_background": "light"
     },
     "output_type": "display_data"
    },
    {
     "data": {
      "image/png": "[encoded data removed]",
      "text/plain": [
       "<Figure size 432x288 with 1 Axes>"
      ]
     },
     "metadata": {
      "needs_background": "light"
     },
     "output_type": "display_data"
    },
    {
     "data": {
      "image/png": "[encoded data removed]",
      "text/plain": [
       "<Figure size 432x288 with 1 Axes>"
      ]
     },
     "metadata": {
      "needs_background": "light"
     },
     "output_type": "display_data"
    }
   ],
   "source": [
    "# 길이 분포 출력\n",
    "import matplotlib.pyplot as plt\n",
    "\n",
    "text_len = [len(s.split()) for s in data['text']]\n",
    "headline_len = [len(s.split()) for s in data['headlines']]\n",
    "\n",
    "print('텍스트의 최소 길이 : {}'.format(np.min(text_len)))\n",
    "print('텍스트의 최대 길이 : {}'.format(np.max(text_len)))\n",
    "print('텍스트의 평균 길이 : {}'.format(np.mean(text_len)))\n",
    "print('요약의 최소 길이 : {}'.format(np.min(headline_len)))\n",
    "print('요약의 최대 길이 : {}'.format(np.max(headline_len)))\n",
    "print('요약의 평균 길이 : {}'.format(np.mean(headline_len)))\n",
    "\n",
    "plt.subplot(1,2,1)\n",
    "plt.boxplot(text_len)\n",
    "plt.title('Text')\n",
    "plt.subplot(1,2,2)\n",
    "plt.boxplot(headline_len)\n",
    "plt.title('Headlines')\n",
    "plt.tight_layout()\n",
    "plt.show()\n",
    "\n",
    "plt.title('Text')\n",
    "plt.hist(text_len, bins = 40)\n",
    "plt.xlabel('length of samples')\n",
    "plt.ylabel('number of samples')\n",
    "plt.show()\n",
    "\n",
    "plt.title('Headlines')\n",
    "plt.hist(headline_len, bins = 40)\n",
    "plt.xlabel('length of samples')\n",
    "plt.ylabel('number of samples')\n",
    "plt.show()"
   ]
  },
  {
   "cell_type": "code",
   "execution_count": 62,
   "id": "2cb36ec1",
   "metadata": {},
   "outputs": [],
   "source": [
    "text_max_len = 40\n",
    "headline_max_len = 11"
   ]
  },
  {
   "cell_type": "code",
   "execution_count": 63,
   "id": "e31029f0",
   "metadata": {},
   "outputs": [],
   "source": [
    "def below_threshold_len(max_len, nested_list):\n",
    "    cnt = 0\n",
    "    for s in nested_list:\n",
    "        if(len(s.split()) <= max_len):\n",
    "            cnt = cnt + 1\n",
    "    print('전체 샘플 중 길이가 %s 이하인 샘플의 비율: %s'%(max_len, (cnt / len(nested_list))))\n",
    "    print('=3')"
   ]
  },
  {
   "cell_type": "code",
   "execution_count": 64,
   "id": "6d892491",
   "metadata": {},
   "outputs": [
    {
     "name": "stdout",
     "output_type": "stream",
     "text": [
      "전체 샘플 중 길이가 40 이하인 샘플의 비율: 0.9238714924766165\n",
      "=3\n",
      "전체 샘플 중 길이가 11 이하인 샘플의 비율: 0.9449877999186661\n",
      "=3\n"
     ]
    }
   ],
   "source": [
    "below_threshold_len(text_max_len, data['text'])\n",
    "below_threshold_len(headline_max_len,  data['headlines'])"
   ]
  },
  {
   "cell_type": "code",
   "execution_count": 66,
   "id": "558928a8",
   "metadata": {},
   "outputs": [],
   "source": [
    "saved = data"
   ]
  },
  {
   "cell_type": "code",
   "execution_count": 71,
   "id": "9de591a9",
   "metadata": {},
   "outputs": [
    {
     "name": "stdout",
     "output_type": "stream",
     "text": [
      "전체 샘플수 : 85843\n"
     ]
    }
   ],
   "source": [
    "data = data[data['text'].apply(lambda x: len(x.split()) <= text_max_len) &\n",
    "                     data['headlines'].apply(lambda x: len(x.split()) <= headline_max_len)]\n",
    "\n",
    "print('전체 샘플수 :', (len(data)))"
   ]
  },
  {
   "cell_type": "code",
   "execution_count": 72,
   "id": "04983e59",
   "metadata": {},
   "outputs": [
    {
     "data": {
      "text/plain": [
       "<bound method NDFrame.head of                                                headlines  \\\n",
       "0      upgrad learner switches to career in ml al wit...   \n",
       "2      new zealand end rohit sharma led india match w...   \n",
       "3      aegon life iterm insurance plan helps customer...   \n",
       "5      rahat fateh ali khan denies getting notice for...   \n",
       "7      govt directs alok verma to join work day befor...   \n",
       "...                                                  ...   \n",
       "98395  pakistan starts building fence along afghanist...   \n",
       "98396  crpf jawan axed to death by maoists in chhatti...   \n",
       "98397  first song from sonakshi sinha noor titled uff...   \n",
       "98398              the matrix film to get reboot reports   \n",
       "98400  madhesi morcha withdraws support to nepalese g...   \n",
       "\n",
       "                                                    text  \n",
       "0      saurav kant alumnus upgrad iiit pg program mac...  \n",
       "2      new zealand defeated india wickets fourth odi ...  \n",
       "3      aegon life iterm insurance plan customers enjo...  \n",
       "5      pakistani singer rahat fateh ali khan denied r...  \n",
       "7      weeks ex cbi director alok verma told departme...  \n",
       "...                                                  ...  \n",
       "98395  pakistan started building nearly kilometer fen...  \n",
       "98396  crpf jawan tuesday axed death sharp edged weap...  \n",
       "98397  uff yeh first song sonakshi sinha starrer upco...  \n",
       "98398  according reports new version science fiction ...  \n",
       "98400  madhesi morcha alliance seven political partie...  \n",
       "\n",
       "[85843 rows x 2 columns]>"
      ]
     },
     "execution_count": 72,
     "metadata": {},
     "output_type": "execute_result"
    }
   ],
   "source": [
    "data.head"
   ]
  },
  {
   "cell_type": "markdown",
   "id": "1d66044b",
   "metadata": {},
   "source": [
    "#### encoder & decoder inputs & target 지정"
   ]
  },
  {
   "cell_type": "code",
   "execution_count": 73,
   "id": "081e7c83",
   "metadata": {},
   "outputs": [
    {
     "name": "stderr",
     "output_type": "stream",
     "text": [
      "/tmp/ipykernel_33/4081104566.py:2: SettingWithCopyWarning: \n",
      "A value is trying to be set on a copy of a slice from a DataFrame.\n",
      "Try using .loc[row_indexer,col_indexer] = value instead\n",
      "\n",
      "See the caveats in the documentation: https://pandas.pydata.org/pandas-docs/stable/user_guide/indexing.html#returning-a-view-versus-a-copy\n",
      "  data['decoder_input'] = data['headlines'].apply(lambda x : 'sostoken '+ x)\n",
      "/tmp/ipykernel_33/4081104566.py:3: SettingWithCopyWarning: \n",
      "A value is trying to be set on a copy of a slice from a DataFrame.\n",
      "Try using .loc[row_indexer,col_indexer] = value instead\n",
      "\n",
      "See the caveats in the documentation: https://pandas.pydata.org/pandas-docs/stable/user_guide/indexing.html#returning-a-view-versus-a-copy\n",
      "  data['decoder_target'] = data['headlines'].apply(lambda x : x + ' eostoken')\n"
     ]
    },
    {
     "data": {
      "text/html": [
       "<div>\n",
       "<style scoped>\n",
       "    .dataframe tbody tr th:only-of-type {\n",
       "        vertical-align: middle;\n",
       "    }\n",
       "\n",
       "    .dataframe tbody tr th {\n",
       "        vertical-align: top;\n",
       "    }\n",
       "\n",
       "    .dataframe thead th {\n",
       "        text-align: right;\n",
       "    }\n",
       "</style>\n",
       "<table border=\"1\" class=\"dataframe\">\n",
       "  <thead>\n",
       "    <tr style=\"text-align: right;\">\n",
       "      <th></th>\n",
       "      <th>headlines</th>\n",
       "      <th>text</th>\n",
       "      <th>decoder_input</th>\n",
       "      <th>decoder_target</th>\n",
       "    </tr>\n",
       "  </thead>\n",
       "  <tbody>\n",
       "    <tr>\n",
       "      <th>0</th>\n",
       "      <td>upgrad learner switches to career in ml al wit...</td>\n",
       "      <td>saurav kant alumnus upgrad iiit pg program mac...</td>\n",
       "      <td>sostoken upgrad learner switches to career in ...</td>\n",
       "      <td>upgrad learner switches to career in ml al wit...</td>\n",
       "    </tr>\n",
       "    <tr>\n",
       "      <th>2</th>\n",
       "      <td>new zealand end rohit sharma led india match w...</td>\n",
       "      <td>new zealand defeated india wickets fourth odi ...</td>\n",
       "      <td>sostoken new zealand end rohit sharma led indi...</td>\n",
       "      <td>new zealand end rohit sharma led india match w...</td>\n",
       "    </tr>\n",
       "    <tr>\n",
       "      <th>3</th>\n",
       "      <td>aegon life iterm insurance plan helps customer...</td>\n",
       "      <td>aegon life iterm insurance plan customers enjo...</td>\n",
       "      <td>sostoken aegon life iterm insurance plan helps...</td>\n",
       "      <td>aegon life iterm insurance plan helps customer...</td>\n",
       "    </tr>\n",
       "    <tr>\n",
       "      <th>5</th>\n",
       "      <td>rahat fateh ali khan denies getting notice for...</td>\n",
       "      <td>pakistani singer rahat fateh ali khan denied r...</td>\n",
       "      <td>sostoken rahat fateh ali khan denies getting n...</td>\n",
       "      <td>rahat fateh ali khan denies getting notice for...</td>\n",
       "    </tr>\n",
       "    <tr>\n",
       "      <th>7</th>\n",
       "      <td>govt directs alok verma to join work day befor...</td>\n",
       "      <td>weeks ex cbi director alok verma told departme...</td>\n",
       "      <td>sostoken govt directs alok verma to join work ...</td>\n",
       "      <td>govt directs alok verma to join work day befor...</td>\n",
       "    </tr>\n",
       "  </tbody>\n",
       "</table>\n",
       "</div>"
      ],
      "text/plain": [
       "                                           headlines  \\\n",
       "0  upgrad learner switches to career in ml al wit...   \n",
       "2  new zealand end rohit sharma led india match w...   \n",
       "3  aegon life iterm insurance plan helps customer...   \n",
       "5  rahat fateh ali khan denies getting notice for...   \n",
       "7  govt directs alok verma to join work day befor...   \n",
       "\n",
       "                                                text  \\\n",
       "0  saurav kant alumnus upgrad iiit pg program mac...   \n",
       "2  new zealand defeated india wickets fourth odi ...   \n",
       "3  aegon life iterm insurance plan customers enjo...   \n",
       "5  pakistani singer rahat fateh ali khan denied r...   \n",
       "7  weeks ex cbi director alok verma told departme...   \n",
       "\n",
       "                                       decoder_input  \\\n",
       "0  sostoken upgrad learner switches to career in ...   \n",
       "2  sostoken new zealand end rohit sharma led indi...   \n",
       "3  sostoken aegon life iterm insurance plan helps...   \n",
       "5  sostoken rahat fateh ali khan denies getting n...   \n",
       "7  sostoken govt directs alok verma to join work ...   \n",
       "\n",
       "                                      decoder_target  \n",
       "0  upgrad learner switches to career in ml al wit...  \n",
       "2  new zealand end rohit sharma led india match w...  \n",
       "3  aegon life iterm insurance plan helps customer...  \n",
       "5  rahat fateh ali khan denies getting notice for...  \n",
       "7  govt directs alok verma to join work day befor...  "
      ]
     },
     "execution_count": 73,
     "metadata": {},
     "output_type": "execute_result"
    }
   ],
   "source": [
    "# 요약 데이터에는 시작 토큰과 종료 토큰을 추가한다.\n",
    "data['decoder_input'] = data['headlines'].apply(lambda x : 'sostoken '+ x)\n",
    "data['decoder_target'] = data['headlines'].apply(lambda x : x + ' eostoken')\n",
    "data.head()"
   ]
  },
  {
   "cell_type": "code",
   "execution_count": 122,
   "id": "5dcef952",
   "metadata": {},
   "outputs": [],
   "source": [
    "encoder_input = np.array(data['text']) # 인코더의 입력\n",
    "decoder_input = np.array(data['decoder_input']) # 디코더의 입력 (sostoken)\n",
    "decoder_target = np.array(data['decoder_target']) # 디코더의 레이블 (eostoken)"
   ]
  },
  {
   "cell_type": "markdown",
   "id": "b053040d",
   "metadata": {},
   "source": [
    "#### train, validation, test dataset 나누기"
   ]
  },
  {
   "cell_type": "code",
   "execution_count": 123,
   "id": "3d86fb8b",
   "metadata": {},
   "outputs": [
    {
     "name": "stdout",
     "output_type": "stream",
     "text": [
      "[30544 66791 38877 ... 18564 75155 79791]\n"
     ]
    }
   ],
   "source": [
    "indices = np.arange(encoder_input.shape[0])\n",
    "np.random.shuffle(indices)\n",
    "print(indices)"
   ]
  },
  {
   "cell_type": "code",
   "execution_count": 124,
   "id": "feda4163",
   "metadata": {},
   "outputs": [],
   "source": [
    "encoder_input = encoder_input[indices]\n",
    "decoder_input = decoder_input[indices]\n",
    "decoder_target = decoder_target[indices]"
   ]
  },
  {
   "cell_type": "code",
   "execution_count": 125,
   "id": "60594473",
   "metadata": {},
   "outputs": [
    {
     "name": "stdout",
     "output_type": "stream",
     "text": [
      "테스트 데이터의 수 : 17168\n"
     ]
    }
   ],
   "source": [
    "n_of_val = int(len(encoder_input)*0.2)\n",
    "print('테스트 데이터의 수 :', n_of_val)"
   ]
  },
  {
   "cell_type": "code",
   "execution_count": 126,
   "id": "a0a395b3",
   "metadata": {},
   "outputs": [
    {
     "name": "stdout",
     "output_type": "stream",
     "text": [
      "훈련 데이터의 개수 : 68675\n",
      "훈련 레이블의 개수 : 68675\n",
      "테스트 데이터의 개수 : 17168\n",
      "테스트 레이블의 개수 : 17168\n"
     ]
    }
   ],
   "source": [
    "encoder_input_train = encoder_input[:-n_of_val]\n",
    "decoder_input_train = decoder_input[:-n_of_val]\n",
    "decoder_target_train = decoder_target[:-n_of_val]\n",
    "\n",
    "encoder_input_test = encoder_input[-n_of_val:]\n",
    "decoder_input_test = decoder_input[-n_of_val:]\n",
    "decoder_target_test = decoder_target[-n_of_val:]\n",
    "\n",
    "print('훈련 데이터의 개수 :', len(encoder_input_train))\n",
    "print('훈련 레이블의 개수 :', len(decoder_input_train))\n",
    "print('테스트 데이터의 개수 :', len(encoder_input_test))\n",
    "print('테스트 레이블의 개수 :', len(decoder_input_test))"
   ]
  },
  {
   "cell_type": "code",
   "execution_count": 127,
   "id": "3567d514",
   "metadata": {},
   "outputs": [
    {
     "name": "stdout",
     "output_type": "stream",
     "text": [
      "=3\n"
     ]
    }
   ],
   "source": [
    "src_tokenizer = Tokenizer() # 토크나이저 정의\n",
    "src_tokenizer.fit_on_texts(encoder_input_train) # 입력된 데이터로부터 단어 집합 생성\n",
    "print('=3')"
   ]
  },
  {
   "cell_type": "code",
   "execution_count": 128,
   "id": "7d4ede2f",
   "metadata": {},
   "outputs": [
    {
     "name": "stdout",
     "output_type": "stream",
     "text": [
      "단어 집합(vocabulary)의 크기 : 64689\n",
      "등장 빈도가 6번 이하인 희귀 단어의 수: 44118\n",
      "단어 집합에서 희귀 단어를 제외시킬 경우의 단어 집합의 크기 20571\n",
      "단어 집합에서 희귀 단어의 비율: 68.20015767750313\n",
      "전체 등장 빈도에서 희귀 단어 등장 빈도 비율: 3.778501683586841\n"
     ]
    }
   ],
   "source": [
    "threshold = 7\n",
    "total_cnt = len(src_tokenizer.word_index) # 단어의 수\n",
    "rare_cnt = 0 # 등장 빈도수가 threshold보다 작은 단어의 개수를 카운트\n",
    "total_freq = 0 # 훈련 데이터의 전체 단어 빈도수 총 합\n",
    "rare_freq = 0 # 등장 빈도수가 threshold보다 작은 단어의 등장 빈도수의 총 합\n",
    "\n",
    "# 단어와 빈도수의 쌍(pair)을 key와 value로 받는다.\n",
    "for key, value in src_tokenizer.word_counts.items():\n",
    "    total_freq = total_freq + value\n",
    "\n",
    "    # 단어의 등장 빈도수가 threshold보다 작으면\n",
    "    if(value < threshold):\n",
    "        rare_cnt = rare_cnt + 1\n",
    "        rare_freq = rare_freq + value\n",
    "\n",
    "print('단어 집합(vocabulary)의 크기 :', total_cnt)\n",
    "print('등장 빈도가 %s번 이하인 희귀 단어의 수: %s'%(threshold - 1, rare_cnt))\n",
    "print('단어 집합에서 희귀 단어를 제외시킬 경우의 단어 집합의 크기 %s'%(total_cnt - rare_cnt))\n",
    "print(\"단어 집합에서 희귀 단어의 비율:\", (rare_cnt / total_cnt)*100)\n",
    "print(\"전체 등장 빈도에서 희귀 단어 등장 빈도 비율:\", (rare_freq / total_freq)*100)"
   ]
  },
  {
   "cell_type": "code",
   "execution_count": 129,
   "id": "34c5a5a6",
   "metadata": {},
   "outputs": [
    {
     "name": "stdout",
     "output_type": "stream",
     "text": [
      "=3\n"
     ]
    }
   ],
   "source": [
    "src_vocab = 8000\n",
    "src_tokenizer = Tokenizer(num_words=src_vocab) # 단어 집합의 크기를 8,000으로 제한\n",
    "src_tokenizer.fit_on_texts(encoder_input_train) # 단어 집합 재생성\n",
    "print('=3')"
   ]
  },
  {
   "cell_type": "code",
   "execution_count": 130,
   "id": "ec77e843",
   "metadata": {},
   "outputs": [
    {
     "name": "stdout",
     "output_type": "stream",
     "text": [
      "[[10, 1578, 197, 670, 272, 909, 174, 1312, 77, 548, 686, 157, 548, 684, 5777, 170, 25, 670, 5643, 378, 6629, 6207, 10, 11, 5850, 6629], [2033, 144, 376, 501, 22, 574, 2594, 59, 1556, 3065, 162, 80, 144, 5406, 1496, 918, 843, 796, 3065, 1559, 179, 151, 193, 5, 489, 1439, 389, 422, 1], [580, 5851, 163, 507, 77, 1549, 113, 1906, 572, 968, 1, 3050, 1744, 4029, 2473, 1765, 5, 1351, 377, 31, 112, 2647, 1725, 81, 5355, 2473, 464, 640, 184, 424, 170, 237, 1106]]\n"
     ]
    }
   ],
   "source": [
    "# 텍스트 시퀀스를 정수 시퀀스로 변환\n",
    "encoder_input_train = src_tokenizer.texts_to_sequences(encoder_input_train) \n",
    "encoder_input_test = src_tokenizer.texts_to_sequences(encoder_input_test)\n",
    "\n",
    "# 잘 진행되었는지 샘플 출력\n",
    "print(encoder_input_train[:3])"
   ]
  },
  {
   "cell_type": "code",
   "execution_count": 131,
   "id": "edba3fc0",
   "metadata": {},
   "outputs": [
    {
     "name": "stdout",
     "output_type": "stream",
     "text": [
      "=3\n"
     ]
    }
   ],
   "source": [
    "tar_tokenizer = Tokenizer()\n",
    "tar_tokenizer.fit_on_texts(decoder_input_train)\n",
    "print('=3')"
   ]
  },
  {
   "cell_type": "code",
   "execution_count": 132,
   "id": "a14b2856",
   "metadata": {},
   "outputs": [
    {
     "name": "stdout",
     "output_type": "stream",
     "text": [
      "단어 집합(vocabulary)의 크기 : 28520\n",
      "등장 빈도가 5번 이하인 희귀 단어의 수: 18786\n",
      "단어 집합에서 희귀 단어를 제외시킬 경우의 단어 집합의 크기 9734\n",
      "단어 집합에서 희귀 단어의 비율: 65.8695652173913\n",
      "전체 등장 빈도에서 희귀 단어 등장 빈도 비율: 5.168139251282759\n"
     ]
    }
   ],
   "source": [
    "threshold = 6\n",
    "total_cnt = len(tar_tokenizer.word_index) # 단어의 수\n",
    "rare_cnt = 0 # 등장 빈도수가 threshold보다 작은 단어의 개수를 카운트\n",
    "total_freq = 0 # 훈련 데이터의 전체 단어 빈도수 총 합\n",
    "rare_freq = 0 # 등장 빈도수가 threshold보다 작은 단어의 등장 빈도수의 총 합\n",
    "\n",
    "# 단어와 빈도수의 쌍(pair)을 key와 value로 받는다.\n",
    "for key, value in tar_tokenizer.word_counts.items():\n",
    "    total_freq = total_freq + value\n",
    "\n",
    "    # 단어의 등장 빈도수가 threshold보다 작으면\n",
    "    if(value < threshold):\n",
    "        rare_cnt = rare_cnt + 1\n",
    "        rare_freq = rare_freq + value\n",
    "\n",
    "print('단어 집합(vocabulary)의 크기 :', total_cnt)\n",
    "print('등장 빈도가 %s번 이하인 희귀 단어의 수: %s'%(threshold - 1, rare_cnt))\n",
    "print('단어 집합에서 희귀 단어를 제외시킬 경우의 단어 집합의 크기 %s'%(total_cnt - rare_cnt))\n",
    "print(\"단어 집합에서 희귀 단어의 비율:\", (rare_cnt / total_cnt)*100)\n",
    "print(\"전체 등장 빈도에서 희귀 단어 등장 빈도 비율:\", (rare_freq / total_freq)*100)"
   ]
  },
  {
   "cell_type": "markdown",
   "id": "ac4b067d",
   "metadata": {},
   "source": [
    "등장 빈도가 5회 이하인 단어들이 단어 집합에서 약 65퍼센트를 차지함. 하지만 훈련데이터에서 등장 빈도로 차지하는 비중은 5.15%로 매우 적은 수치를 보여줌. 어림잡아 "
   ]
  },
  {
   "cell_type": "code",
   "execution_count": 133,
   "id": "2539debb",
   "metadata": {},
   "outputs": [
    {
     "name": "stdout",
     "output_type": "stream",
     "text": [
      "input\n",
      "input  [[1, 477, 6, 216, 1395, 356, 1310, 54], [1, 349, 174, 868, 1664, 10, 96, 427, 3, 1074], [1, 1988, 3, 85, 710, 19, 46, 128, 306, 1343], [1, 118, 3, 111, 972], [1, 738, 199, 1117, 6, 7, 242, 370]]\n",
      "target\n",
      "decoder  [[477, 6, 216, 1395, 356, 1310, 54, 2], [349, 174, 868, 1664, 10, 96, 427, 3, 1074, 2], [1988, 3, 85, 710, 19, 46, 128, 306, 1343, 2], [118, 3, 111, 972, 2], [738, 199, 1117, 6, 7, 242, 370, 2]]\n"
     ]
    }
   ],
   "source": [
    "tar_vocab = 2000\n",
    "tar_tokenizer = Tokenizer(num_words=tar_vocab) \n",
    "tar_tokenizer.fit_on_texts(decoder_input_train)\n",
    "tar_tokenizer.fit_on_texts(decoder_target_train)\n",
    "\n",
    "# 텍스트 시퀀스를 정수 시퀀스로 변환\n",
    "decoder_input_train = tar_tokenizer.texts_to_sequences(decoder_input_train) \n",
    "decoder_target_train = tar_tokenizer.texts_to_sequences(decoder_target_train)\n",
    "decoder_input_test = tar_tokenizer.texts_to_sequences(decoder_input_test)\n",
    "decoder_target_test = tar_tokenizer.texts_to_sequences(decoder_target_test)\n",
    "\n",
    "# 잘 변환되었는지 확인\n",
    "print('input')\n",
    "print('input ',decoder_input_train[:5])\n",
    "print('target')\n",
    "print('decoder ',decoder_target_train[:5])"
   ]
  },
  {
   "cell_type": "code",
   "execution_count": 134,
   "id": "a8276502",
   "metadata": {},
   "outputs": [
    {
     "name": "stdout",
     "output_type": "stream",
     "text": [
      "삭제할 훈련 데이터의 개수 : 12\n",
      "삭제할 테스트 데이터의 개수 : 0\n",
      "훈련 데이터의 개수 : 68663\n",
      "훈련 레이블의 개수 : 68663\n",
      "테스트 데이터의 개수 : 17168\n",
      "테스트 레이블의 개수 : 17168\n"
     ]
    }
   ],
   "source": [
    "drop_train = [index for index, sentence in enumerate(decoder_input_train) if len(sentence) == 1]\n",
    "drop_test = [index for index, sentence in enumerate(decoder_input_test) if len(sentence) == 1]\n",
    "\n",
    "print('삭제할 훈련 데이터의 개수 :', len(drop_train))\n",
    "print('삭제할 테스트 데이터의 개수 :', len(drop_test))\n",
    "\n",
    "encoder_input_train = [sentence for index, sentence in enumerate(encoder_input_train) if index not in drop_train]\n",
    "decoder_input_train = [sentence for index, sentence in enumerate(decoder_input_train) if index not in drop_train]\n",
    "decoder_target_train = [sentence for index, sentence in enumerate(decoder_target_train) if index not in drop_train]\n",
    "\n",
    "encoder_input_test = [sentence for index, sentence in enumerate(encoder_input_test) if index not in drop_test]\n",
    "decoder_input_test = [sentence for index, sentence in enumerate(decoder_input_test) if index not in drop_test]\n",
    "decoder_target_test = [sentence for index, sentence in enumerate(decoder_target_test) if index not in drop_test]\n",
    "\n",
    "print('훈련 데이터의 개수 :', len(encoder_input_train))\n",
    "print('훈련 레이블의 개수 :', len(decoder_input_train))\n",
    "print('테스트 데이터의 개수 :', len(encoder_input_test))\n",
    "print('테스트 레이블의 개수 :', len(decoder_input_test))"
   ]
  },
  {
   "cell_type": "code",
   "execution_count": 135,
   "id": "f19c0772",
   "metadata": {},
   "outputs": [],
   "source": [
    "encoder_input_train = pad_sequences(encoder_input_train, maxlen=text_max_len, padding='pre')\n",
    "encoder_input_test = pad_sequences(encoder_input_test, maxlen=text_max_len, padding='pre')\n",
    "decoder_input_train = pad_sequences(decoder_input_train, maxlen=headline_max_len, padding='pre')\n",
    "decoder_target_train = pad_sequences(decoder_target_train, maxlen=headline_max_len, padding='pre')\n",
    "decoder_input_test = pad_sequences(decoder_input_test, maxlen=headline_max_len, padding='pre')\n",
    "decoder_target_test = pad_sequences(decoder_target_test, maxlen=headline_max_len, padding='pre')"
   ]
  },
  {
   "cell_type": "markdown",
   "id": "1c74a9e6",
   "metadata": {},
   "source": [
    "## 어텐션 메커니즘"
   ]
  },
  {
   "cell_type": "code",
   "execution_count": 89,
   "id": "02a72a71",
   "metadata": {},
   "outputs": [],
   "source": [
    "from tensorflow.keras.layers import Input, LSTM, Embedding, Dense, Concatenate, TimeDistributed\n",
    "from tensorflow.keras.models import Model\n",
    "from tensorflow.keras.callbacks import EarlyStopping, ModelCheckpoint\n",
    "\n",
    "\n",
    "# 인코더 설계 시작\n",
    "embedding_dim = 128\n",
    "hidden_size = 256\n",
    "\n",
    "# 인코더\n",
    "encoder_inputs = Input(shape=(text_max_len,))\n",
    "\n",
    "# 인코더의 임베딩 층\n",
    "enc_emb = Embedding(src_vocab, embedding_dim)(encoder_inputs)\n",
    "\n",
    "# 인코더의 LSTM 1\n",
    "# encoder_lstm1 = LSTM(hidden_size, return_sequences=True, return_state=True ,dropout = 0.4, recurrent_dropout = 0.4)\n",
    "encoder_lstm1 = LSTM(hidden_size, return_sequences=True, return_state=True ,dropout = 0.4)\n",
    "encoder_output1, state_h1, state_c1 = encoder_lstm1(enc_emb)\n",
    "\n",
    "# 인코더의 LSTM 2\n",
    "encoder_lstm2 = LSTM(hidden_size, return_sequences=True, return_state=True, dropout=0.4)\n",
    "encoder_output2, state_h2, state_c2 = encoder_lstm2(encoder_output1)\n",
    "\n",
    "# 인코더의 LSTM 3\n",
    "encoder_lstm3 = LSTM(hidden_size, return_sequences=True, return_state=True, dropout=0.4)\n",
    "encoder_output3, state_h3, state_c3 = encoder_lstm3(encoder_output2)"
   ]
  },
  {
   "cell_type": "code",
   "execution_count": 90,
   "id": "55c87a88",
   "metadata": {},
   "outputs": [],
   "source": [
    "# 디코더 설계\n",
    "decoder_inputs = Input(shape=(None,))\n",
    "\n",
    "# 디코더의 임베딩 층\n",
    "dec_emb_layer = Embedding(tar_vocab, embedding_dim)\n",
    "dec_emb = dec_emb_layer(decoder_inputs)\n",
    "\n",
    "# 디코더의 LSTM\n",
    "# decoder_lstm = LSTM(hidden_size, return_sequences=True, return_state=True, dropout=0.4, recurrent_dropout=0.2)\n",
    "decoder_lstm = LSTM(hidden_size, return_sequences=True, return_state=True, dropout=0.4)\n",
    "decoder_outputs, _, _ = decoder_lstm(dec_emb, initial_state=[state_h3, state_c3])"
   ]
  },
  {
   "cell_type": "code",
   "execution_count": 91,
   "id": "24b6c5c4",
   "metadata": {},
   "outputs": [
    {
     "name": "stdout",
     "output_type": "stream",
     "text": [
      "Model: \"model\"\n",
      "__________________________________________________________________________________________________\n",
      "Layer (type)                    Output Shape         Param #     Connected to                     \n",
      "==================================================================================================\n",
      "input_1 (InputLayer)            [(None, 40)]         0                                            \n",
      "__________________________________________________________________________________________________\n",
      "embedding (Embedding)           (None, 40, 128)      1024000     input_1[0][0]                    \n",
      "__________________________________________________________________________________________________\n",
      "lstm (LSTM)                     [(None, 40, 256), (N 394240      embedding[0][0]                  \n",
      "__________________________________________________________________________________________________\n",
      "input_2 (InputLayer)            [(None, None)]       0                                            \n",
      "__________________________________________________________________________________________________\n",
      "lstm_1 (LSTM)                   [(None, 40, 256), (N 525312      lstm[0][0]                       \n",
      "__________________________________________________________________________________________________\n",
      "embedding_1 (Embedding)         (None, None, 128)    256000      input_2[0][0]                    \n",
      "__________________________________________________________________________________________________\n",
      "lstm_2 (LSTM)                   [(None, 40, 256), (N 525312      lstm_1[0][0]                     \n",
      "__________________________________________________________________________________________________\n",
      "lstm_3 (LSTM)                   [(None, None, 256),  394240      embedding_1[0][0]                \n",
      "                                                                 lstm_2[0][1]                     \n",
      "                                                                 lstm_2[0][2]                     \n",
      "__________________________________________________________________________________________________\n",
      "dense (Dense)                   (None, None, 2000)   514000      lstm_3[0][0]                     \n",
      "==================================================================================================\n",
      "Total params: 3,633,104\n",
      "Trainable params: 3,633,104\n",
      "Non-trainable params: 0\n",
      "__________________________________________________________________________________________________\n"
     ]
    }
   ],
   "source": [
    "# 디코더의 출력층\n",
    "decoder_softmax_layer = Dense(tar_vocab, activation='softmax')\n",
    "decoder_softmax_outputs = decoder_softmax_layer(decoder_outputs) \n",
    "\n",
    "# 모델 정의\n",
    "model = Model([encoder_inputs, decoder_inputs], decoder_softmax_outputs)\n",
    "model.summary()"
   ]
  },
  {
   "cell_type": "code",
   "execution_count": 92,
   "id": "06115188",
   "metadata": {},
   "outputs": [
    {
     "name": "stdout",
     "output_type": "stream",
     "text": [
      "Model: \"model_1\"\n",
      "__________________________________________________________________________________________________\n",
      "Layer (type)                    Output Shape         Param #     Connected to                     \n",
      "==================================================================================================\n",
      "input_1 (InputLayer)            [(None, 40)]         0                                            \n",
      "__________________________________________________________________________________________________\n",
      "embedding (Embedding)           (None, 40, 128)      1024000     input_1[0][0]                    \n",
      "__________________________________________________________________________________________________\n",
      "lstm (LSTM)                     [(None, 40, 256), (N 394240      embedding[0][0]                  \n",
      "__________________________________________________________________________________________________\n",
      "input_2 (InputLayer)            [(None, None)]       0                                            \n",
      "__________________________________________________________________________________________________\n",
      "lstm_1 (LSTM)                   [(None, 40, 256), (N 525312      lstm[0][0]                       \n",
      "__________________________________________________________________________________________________\n",
      "embedding_1 (Embedding)         (None, None, 128)    256000      input_2[0][0]                    \n",
      "__________________________________________________________________________________________________\n",
      "lstm_2 (LSTM)                   [(None, 40, 256), (N 525312      lstm_1[0][0]                     \n",
      "__________________________________________________________________________________________________\n",
      "lstm_3 (LSTM)                   [(None, None, 256),  394240      embedding_1[0][0]                \n",
      "                                                                 lstm_2[0][1]                     \n",
      "                                                                 lstm_2[0][2]                     \n",
      "__________________________________________________________________________________________________\n",
      "attention_layer (AdditiveAttent (None, None, 256)    256         lstm_3[0][0]                     \n",
      "                                                                 lstm_2[0][0]                     \n",
      "__________________________________________________________________________________________________\n",
      "concat_layer (Concatenate)      (None, None, 512)    0           lstm_3[0][0]                     \n",
      "                                                                 attention_layer[0][0]            \n",
      "__________________________________________________________________________________________________\n",
      "dense_1 (Dense)                 (None, None, 2000)   1026000     concat_layer[0][0]               \n",
      "==================================================================================================\n",
      "Total params: 4,145,360\n",
      "Trainable params: 4,145,360\n",
      "Non-trainable params: 0\n",
      "__________________________________________________________________________________________________\n"
     ]
    }
   ],
   "source": [
    "from tensorflow.keras.layers import AdditiveAttention\n",
    "\n",
    "# 어텐션 층(어텐션 함수)\n",
    "attn_layer = AdditiveAttention(name='attention_layer')\n",
    "\n",
    "# 인코더와 디코더의 모든 time step의 hidden state를 어텐션 층에 전달하고 결과를 리턴\n",
    "attn_out = attn_layer([decoder_outputs, encoder_output3])\n",
    "\n",
    "\n",
    "# 어텐션의 결과와 디코더의 hidden state들을 연결\n",
    "decoder_concat_input = Concatenate(axis=-1, name='concat_layer')([decoder_outputs, attn_out])\n",
    "\n",
    "# 디코더의 출력층\n",
    "decoder_softmax_layer = Dense(tar_vocab, activation='softmax')\n",
    "decoder_softmax_outputs = decoder_softmax_layer(decoder_concat_input)\n",
    "\n",
    "# 모델 정의\n",
    "model = Model([encoder_inputs, decoder_inputs], decoder_softmax_outputs)\n",
    "model.summary()"
   ]
  },
  {
   "cell_type": "code",
   "execution_count": 93,
   "id": "1ee617d5",
   "metadata": {},
   "outputs": [
    {
     "name": "stdout",
     "output_type": "stream",
     "text": [
      "Epoch 1/50\n",
      "269/269 [==============================] - 26s 70ms/step - loss: 4.0781 - val_loss: 3.7367\n",
      "Epoch 2/50\n",
      "269/269 [==============================] - 17s 65ms/step - loss: 3.6371 - val_loss: 3.4909\n",
      "Epoch 3/50\n",
      "269/269 [==============================] - 17s 64ms/step - loss: 3.3823 - val_loss: 3.2697\n",
      "Epoch 4/50\n",
      "269/269 [==============================] - 17s 64ms/step - loss: 3.1869 - val_loss: 3.1130\n",
      "Epoch 5/50\n",
      "269/269 [==============================] - 17s 64ms/step - loss: 3.0214 - val_loss: 2.9837\n",
      "Epoch 6/50\n",
      "269/269 [==============================] - 17s 65ms/step - loss: 2.8835 - val_loss: 2.8928\n",
      "Epoch 7/50\n",
      "269/269 [==============================] - 17s 64ms/step - loss: 2.7663 - val_loss: 2.7988\n",
      "Epoch 8/50\n",
      "269/269 [==============================] - 17s 64ms/step - loss: 2.6657 - val_loss: 2.7245\n",
      "Epoch 9/50\n",
      "269/269 [==============================] - 17s 64ms/step - loss: 2.5784 - val_loss: 2.6738\n",
      "Epoch 10/50\n",
      "269/269 [==============================] - 17s 64ms/step - loss: 2.5023 - val_loss: 2.6273\n",
      "Epoch 11/50\n",
      "269/269 [==============================] - 17s 64ms/step - loss: 2.4342 - val_loss: 2.5971\n",
      "Epoch 12/50\n",
      "269/269 [==============================] - 17s 64ms/step - loss: 2.3733 - val_loss: 2.5573\n",
      "Epoch 13/50\n",
      "269/269 [==============================] - 17s 64ms/step - loss: 2.3186 - val_loss: 2.5333\n",
      "Epoch 14/50\n",
      "269/269 [==============================] - 17s 64ms/step - loss: 2.2663 - val_loss: 2.5160\n",
      "Epoch 15/50\n",
      "269/269 [==============================] - 17s 64ms/step - loss: 2.2201 - val_loss: 2.4950\n",
      "Epoch 16/50\n",
      "269/269 [==============================] - 17s 64ms/step - loss: 2.1764 - val_loss: 2.4763\n",
      "Epoch 17/50\n",
      "269/269 [==============================] - 17s 64ms/step - loss: 2.1362 - val_loss: 2.4680\n",
      "Epoch 18/50\n",
      "269/269 [==============================] - 17s 64ms/step - loss: 2.0978 - val_loss: 2.4542\n",
      "Epoch 19/50\n",
      "269/269 [==============================] - 17s 64ms/step - loss: 2.0622 - val_loss: 2.4547\n",
      "Epoch 20/50\n",
      "269/269 [==============================] - 17s 64ms/step - loss: 2.0302 - val_loss: 2.4413\n",
      "Epoch 21/50\n",
      "269/269 [==============================] - 17s 64ms/step - loss: 1.9969 - val_loss: 2.4402\n",
      "Epoch 22/50\n",
      "269/269 [==============================] - 17s 64ms/step - loss: 1.9680 - val_loss: 2.4338\n",
      "Epoch 23/50\n",
      "269/269 [==============================] - 17s 64ms/step - loss: 1.9393 - val_loss: 2.4368\n",
      "Epoch 24/50\n",
      "269/269 [==============================] - 17s 64ms/step - loss: 1.9119 - val_loss: 2.4306\n",
      "Epoch 25/50\n",
      "269/269 [==============================] - 17s 64ms/step - loss: 1.8863 - val_loss: 2.4366\n",
      "Epoch 26/50\n",
      "269/269 [==============================] - 17s 64ms/step - loss: 1.8621 - val_loss: 2.4287\n",
      "Epoch 27/50\n",
      "269/269 [==============================] - 17s 64ms/step - loss: 1.8383 - val_loss: 2.4324\n",
      "Epoch 28/50\n",
      "269/269 [==============================] - 17s 64ms/step - loss: 1.8166 - val_loss: 2.4408\n",
      "Epoch 29/50\n",
      "269/269 [==============================] - 17s 64ms/step - loss: 1.7941 - val_loss: 2.4395\n",
      "Epoch 00029: early stopping\n"
     ]
    }
   ],
   "source": [
    "model.compile(optimizer='rmsprop', loss='sparse_categorical_crossentropy')\n",
    "es = EarlyStopping(monitor='val_loss', patience=3, verbose=1)\n",
    "history = model.fit(x=[encoder_input_train, decoder_input_train], y=decoder_target_train, \\\n",
    "          validation_data=([encoder_input_test, decoder_input_test], decoder_target_test), \\\n",
    "          batch_size=256, callbacks=[es], epochs=50)"
   ]
  },
  {
   "cell_type": "code",
   "execution_count": 94,
   "id": "a5acf708",
   "metadata": {},
   "outputs": [
    {
     "data": {
      "image/png": "[encoded data removed]",
      "text/plain": [
       "<Figure size 432x288 with 1 Axes>"
      ]
     },
     "metadata": {
      "needs_background": "light"
     },
     "output_type": "display_data"
    }
   ],
   "source": [
    "plt.plot(history.history['loss'], label='train')\n",
    "plt.plot(history.history['val_loss'], label='test')\n",
    "plt.legend()\n",
    "plt.show()"
   ]
  },
  {
   "cell_type": "code",
   "execution_count": 95,
   "id": "d3a17b06",
   "metadata": {},
   "outputs": [],
   "source": [
    "src_index_to_word = src_tokenizer.index_word # 원문 단어 집합에서 정수 -> 단어를 얻음\n",
    "tar_word_to_index = tar_tokenizer.word_index # 요약 단어 집합에서 단어 -> 정수를 얻음\n",
    "tar_index_to_word = tar_tokenizer.index_word # 요약 단어 집합에서 정수 -> 단어를 얻음"
   ]
  },
  {
   "cell_type": "code",
   "execution_count": 96,
   "id": "8c9b3159",
   "metadata": {},
   "outputs": [],
   "source": [
    "# 인코더 설계\n",
    "encoder_model = Model(inputs=encoder_inputs, outputs=[encoder_output3, state_h3, state_c3])\n",
    "\n",
    "# 이전 시점의 상태들을 저장하는 텐서\n",
    "decoder_state_input_h = Input(shape=(hidden_size,))\n",
    "decoder_state_input_c = Input(shape=(hidden_size,))\n",
    "\n",
    "dec_emb2 = dec_emb_layer(decoder_inputs)\n",
    "\n",
    "# 문장의 다음 단어를 예측하기 위해서 초기 상태(initial_state)를 이전 시점의 상태로 사용. 이는 뒤의 함수 decode_sequence()에 구현\n",
    "# 훈련 과정에서와 달리 LSTM의 리턴하는 은닉 상태와 셀 상태인 state_h와 state_c를 버리지 않음.\n",
    "decoder_outputs2, state_h2, state_c2 = decoder_lstm(dec_emb2, initial_state=[decoder_state_input_h, decoder_state_input_c])"
   ]
  },
  {
   "cell_type": "code",
   "execution_count": 97,
   "id": "04f7a30a",
   "metadata": {},
   "outputs": [],
   "source": [
    "# 어텐션 함수\n",
    "decoder_hidden_state_input = Input(shape=(text_max_len, hidden_size))\n",
    "attn_out_inf = attn_layer([decoder_outputs2, decoder_hidden_state_input])\n",
    "decoder_inf_concat = Concatenate(axis=-1, name='concat')([decoder_outputs2, attn_out_inf])\n",
    "\n",
    "# 디코더의 출력층\n",
    "decoder_outputs2 = decoder_softmax_layer(decoder_inf_concat) \n",
    "\n",
    "# 최종 디코더 모델\n",
    "decoder_model = Model(\n",
    "    [decoder_inputs] + [decoder_hidden_state_input,decoder_state_input_h, decoder_state_input_c],\n",
    "    [decoder_outputs2] + [state_h2, state_c2])\n"
   ]
  },
  {
   "cell_type": "code",
   "execution_count": 101,
   "id": "5939ff17",
   "metadata": {},
   "outputs": [],
   "source": [
    "def decode_sequence(input_seq):\n",
    "    # 입력으로부터 인코더의 상태를 얻음\n",
    "    e_out, e_h, e_c = encoder_model.predict(input_seq)\n",
    "\n",
    "     # <SOS>에 해당하는 토큰 생성\n",
    "    target_seq = np.zeros((1,1))\n",
    "    target_seq[0, 0] = tar_word_to_index['sostoken']\n",
    "\n",
    "    stop_condition = False\n",
    "    decoded_sentence = ''\n",
    "    while not stop_condition: # stop_condition이 True가 될 때까지 루프 반복\n",
    "\n",
    "        output_tokens, h, c = decoder_model.predict([target_seq] + [e_out, e_h, e_c])\n",
    "        sampled_token_index = np.argmax(output_tokens[0, -1, :])\n",
    "        sampled_token = tar_index_to_word[sampled_token_index]\n",
    "\n",
    "        if (sampled_token!='eostoken'):\n",
    "            decoded_sentence += ' '+sampled_token\n",
    "\n",
    "        #  <eos>에 도달하거나 최대 길이를 넘으면 중단.\n",
    "        if (sampled_token == 'eostoken'  or len(decoded_sentence.split()) >= (headline_max_len-1)):\n",
    "            stop_condition = True\n",
    "\n",
    "        # 길이가 1인 타겟 시퀀스를 업데이트\n",
    "        target_seq = np.zeros((1,1))\n",
    "        target_seq[0, 0] = sampled_token_index\n",
    "\n",
    "        # 상태를 업데이트 합니다.\n",
    "        e_h, e_c = h, c\n",
    "\n",
    "    return decoded_sentence"
   ]
  },
  {
   "cell_type": "code",
   "execution_count": 102,
   "id": "104ca1ae",
   "metadata": {},
   "outputs": [],
   "source": [
    "# 원문의 정수 시퀀스를 텍스트 시퀀스로 변환\n",
    "def seq2text(input_seq):\n",
    "    temp=''\n",
    "    for i in input_seq:\n",
    "        if (i!=0):\n",
    "            temp = temp + src_index_to_word[i]+' '\n",
    "    return temp\n",
    "\n",
    "# 요약문의 정수 시퀀스를 텍스트 시퀀스로 변환\n",
    "def seq2headline(input_seq):\n",
    "    temp = ''\n",
    "    for i in input_seq:\n",
    "        if (i != 0 and i != tar_word_to_index['sostoken']) and (i != tar_word_to_index['eostoken']):\n",
    "            temp = temp + tar_index_to_word[i] + ' '\n",
    "    return temp.strip()"
   ]
  },
  {
   "cell_type": "markdown",
   "id": "b4c388f5",
   "metadata": {},
   "source": [
    "## 실제결과와 요약문 비교"
   ]
  },
  {
   "cell_type": "code",
   "execution_count": 138,
   "id": "b178e202",
   "metadata": {},
   "outputs": [
    {
     "name": "stdout",
     "output_type": "stream",
     "text": [
      "원문 : cell maker enable rcom six lied vote walmart ceiling shops plus case enable found walmart policy china plus oil six teach bound sourav died enable asked former jawaharlal policy case bride musical even crore \n",
      "실제 요약 : teacher hong shows he\n",
      "예측 요약 :  bus driver arrested in delhi bus for year old bus\n",
      "\n",
      "\n",
      "원문 : world cannot aircraft increase pictures recent instead nearly since teams ranked watch cheteshwar every recent highest confidence ranked trading denmark commissioner kmph strengthening allows sanjay said recent \n",
      "실제 요약 : power breaks month in at fines\n",
      "예측 요약 :  bus driver stabbed in mumbai bus for mumbai bus arrested\n",
      "\n",
      "\n",
      "원문 : canada give features conversations sets supported indian season bhushan near young products pradesh travel sets cup fruits women mk kajol persons could lions host kajol called could host near young commission \n",
      "실제 요약 : rbi must for in police surgery live\n",
      "예측 요약 :  bus driver arrested for trying to mumbai bus in mumbai\n",
      "\n",
      "\n",
      "원문 : deep rohan spanish stay rajasthan made coach apologise actor commander rai west rescued student term undertake nihalani congress party trump commander sea allowed live rai west justice senior wedding delay narendra \n",
      "실제 요약 : quit brothers bans cancelled press loan many from gandhi\n",
      "예측 요약 :  bus bus to get held in mumbai bus bus case\n",
      "\n",
      "\n",
      "원문 : man online strongly lying donald school covering reacting singh started technology plans monday poaching penalty million absolutely wimbledon child apologised collaboration fixed kapil goalkeeper andhra plans last year \n",
      "실제 요약 : is srk for at called killed in rahul\n",
      "예측 요약 :  bus bus in mumbai bus for year old bus in\n",
      "\n",
      "\n",
      "원문 : stop francisco north bring indonesian project precious trump sisodia said something dhanush sticks way ireland transgender obtained alleged one technology guard beds april upcoming francisco blamed called whether shutting two bring indonesian \n",
      "실제 요약 : rahul shooting hardik for mumbai\n",
      "예측 요약 :  bus bus to death in bus bus in mumbai bus\n",
      "\n",
      "\n",
      "원문 : others tested reported asking want rampal goyal vikas hansraj tamil central laws present secretary truly capital joked netherlands winds bollywood sania transaction remains commission tamil central laws humans high back court died \n",
      "실제 요약 : market peace to body plans party ec bowling\n",
      "예측 요약 :  bus bus to get bus in bus bus in mumbai\n",
      "\n",
      "\n",
      "원문 : andhra woman woman saying chaos reporting delhi government trade hours centre abroad get physical humans kathua government said drug provides times saying priyanka captain february saying caption two \n",
      "실제 요약 : delhi claims why me not who\n",
      "예측 요약 :  bus driver in delhi bus for year old girl killed\n",
      "\n",
      "\n",
      "원문 : meghan ceremony mahindra features requested friday prime proud next stations developed icc chief allegedly treat pieces chief victims period year year customers offering efforts issues meghan surpassed similar allegations batsman elon \n",
      "실제 요약 : removes cost debut for head to demand son\n",
      "예측 요약 :  bus bus to get held in mumbai bus bus in\n",
      "\n",
      "\n",
      "원문 : congress notably three really could landed made said men adding catholic new let appearance john state merit costing new let undertaking co leave added april let places born tech congress constable proposal gym \n",
      "실제 요약 : gst pakistan uttar cows after bjp wife\n",
      "예측 요약 :  bus bus to set up bus in mumbai bus arrested\n",
      "\n",
      "\n",
      "원문 : three free forces could miles house overall asked office war friday game filled grosser wife zero chairman grosser also province bureau prize exam felt filled pay un comes gandhi exam felt said \n",
      "실제 요약 : director pre from shows factory based quarter soldiers\n",
      "예측 요약 :  bus bus to set up bus in mumbai bus bus\n",
      "\n",
      "\n",
      "원문 : union scored western career introduced girl take claims six company three polish launched shooting said dates cut beat security years trai us apple wins revenue stores also said criminals apple situation \n",
      "실제 요약 : about as who it bill puts\n",
      "예측 요약 :  bus bus to get run in mumbai bus in mumbai\n",
      "\n",
      "\n",
      "원문 : named towards injured reportedly lunar public curb restricted cast company date ensure madras report expected date ensure growth team restricted injured services injured sex predecessor alarm appropriate jimmy smart date ensure growth whatsapp report added \n",
      "실제 요약 : more for maha yogi report\n",
      "예측 요약 :  bus bus to set up bus in mumbai bus arrested\n",
      "\n",
      "\n",
      "원문 : league office war train carrying additionally pm day access cultural reducing spider convert exam witnessed league khan party office war hours feature credit signed pm mandatory weight reacting less continue pakistani mark \n",
      "실제 요약 : plane mobile smith want set in real ceo\n",
      "예측 요약 :  bus bus to death in bus bus in mumbai bus\n",
      "\n",
      "\n",
      "원문 : murder sharing known support solar arvind expressed helmets teams ranked three known may coast rejecting saturday doubles loans furniture solar play dr monday leela able electric landing however three known criticised smartphone proposals directly \n",
      "실제 요약 : as varun ball khan saudi\n",
      "예측 요약 :  bus bus to get bus bus in mumbai bus held\n",
      "\n",
      "\n",
      "원문 : ring president biological supremo sat called produce using minister anthony clothing aap criminal dead victim killed cheque justice motive games look criminal aap state sat said one eid world clothing sc kapoor sat criminal theresa \n",
      "실제 요약 : off calls rupee pm defeat over\n",
      "예측 요약 :  man arrested for trying to kill his train in mumbai\n",
      "\n",
      "\n",
      "원문 : revised cbfc accounted sawant free forces actor minister comply said government would concerns information government university poverty association dna diagnosed told president nightclub ethereum museum quit congress scientists uk raveena ethereum added \n",
      "실제 요약 : poster calling govt of\n",
      "예측 요약 :  bus bus to death in bus bus in mumbai bus\n",
      "\n",
      "\n",
      "원문 : first time india four pandya back court capacity called teams various remains scientists senior reply polling senior employment court akshay died capacity several two month old declared naveen write said shot stocks actor price closing knowledge aamir emails \n",
      "실제 요약 : gets activists auctioned mayawati google fines white officers at action\n",
      "예측 요약 :  man who was stabbed to death in mumbai this year\n",
      "\n",
      "\n",
      "원문 : back court made train unit arabia targeted occupied arrested fingers accusing refugee user love also said canada use failing state light police earlier give canada team feature virat indian apologised suspicion \n",
      "실제 요약 : gets carrying against launch\n",
      "예측 요약 :  bus driver stabbed to death for mumbai bus in mumbai\n",
      "\n",
      "\n",
      "원문 : twin visiting knocked photograph dhawan bureau time wrote low commerce thursday tournaments great venkaiah april nepotism steps driver first time match intelligence airline photograph venue german last former plus settlement ahead musical charging cwg entire points cell \n",
      "실제 요약 : hair hits team pak could threatens\n",
      "예측 요약 :  bus bus to train bus in mumbai bus on bus\n",
      "\n",
      "\n",
      "원문 : muslims sunday tweeted named claims activists us team marks character facebook parliamentary uidai nearly muslims said choksi metres nagar book performing event girl like customers facebook told named issues threatening bulandshahr notifications priest \n",
      "실제 요약 : term assets loss all\n",
      "예측 요약 :  bus bus to kill man in mumbai bus in mumbai\n",
      "\n",
      "\n",
      "원문 : accused sachin president rahul work january video twitter modi union person green comes notably safe long responded kapoor spat using minister reply august concerns making list lives thinking check stake added \n",
      "실제 요약 : pm in player on uk live\n",
      "예측 요약 :  bus bus to death in mumbai bus bus in mumbai\n",
      "\n",
      "\n",
      "원문 : financial ancient registered stuck lakh recommended started istanbul expose ipl expected central raped son son july response started going son started unchanged addiction unchanged super istanbul change police leaders meanwhile ipl expected recover registered stuck sp \n",
      "실제 요약 : two security blocks slams media him\n",
      "예측 요약 :  bus bus to run for son in mumbai bus arrested\n",
      "\n",
      "\n",
      "원문 : area congress notably nike fuel january information government kapoor replacement sure actress wicket delay district aided nuclear minister polls followed monday civil three nuclear minister added followed told time cricket landing treatment defence plot distribute areas exploited \n",
      "실제 요약 : dance in need to up wedding bjp collection\n",
      "예측 요약 :  bus bus to death gandhi bus bus in mumbai bus\n",
      "\n",
      "\n",
      "원문 : jackson let biometric founded notably soil actor minister asked breach truck fire films dark reach fire congress ready province declared invest soil could sell biometric tell rocket sell tweeted player congress proposal \n",
      "실제 요약 : rajinikanth cm working to\n",
      "예측 요약 :  bus bus to get bus in mumbai bus bus in\n",
      "\n",
      "\n",
      "원문 : three according president malicious biggest called video published five resulting pregnancy using minister army leela country added one detained last year pay taken bjp five vehicles rescue region following year caught \n",
      "실제 요약 : it women off calls level cannot snapchat minister\n",
      "예측 요약 :  bus bus in mumbai bus to death in mumbai arrested\n",
      "\n",
      "\n",
      "원문 : times top congress kings fund west circular card circular april accused kings circular surgery invited asked clarified production kings congress kings asked invited fund west \n",
      "실제 요약 : play its started of sports of gender carry players in\n",
      "예측 요약 :  bus bus in mumbai bus bus to death in mumbai\n",
      "\n",
      "\n",
      "원문 : explaining per pakistan air quarter valuation congress president amitabh united gang ill pakistan gandhi air quarter gujarat salman salman love homes represent quarter valuation people helpline blasphemy consumed runs gang \n",
      "실제 요약 : actor shares him sanctions gujarat to\n",
      "예측 요약 :  man arrested for running year old killed in delhi airport\n",
      "\n",
      "\n",
      "원문 : help wearing city pradesh candidate regret google national senior garbage cargo depression ruled legislative interest dam brother wanted bjp living life russians government mukherjee group could wrong dismissed mukesh depression ruled woman special \n",
      "실제 요약 : up railways video bengal of as eu as\n",
      "예측 요약 :  bus bus to get bus bus in mumbai bus held\n",
      "\n",
      "\n",
      "원문 : women armed arjun revealed boundary women inside five intraday rural armed added inside crisis went manipur cricketer year old women revealed telescope least portrayed impose elections \n",
      "실제 요약 : flight from into taka was teaser french goal\n",
      "예측 요약 :  woman stabbed to death for trying to mumbai in mumbai\n",
      "\n",
      "\n",
      "원문 : solve batsman peace elections sharma scale cum bank peace elections held onto disorder series solve also degrees cum attempted bulandshahr sushant hooda solve protect crashed peace elections monday cabinet \n",
      "실제 요약 : again family exit on in gave\n",
      "예측 요약 :  bus bus in mumbai bus bus to death in mumbai\n",
      "\n",
      "\n",
      "원문 : air encourage women payments hyderabad notice lakh however cardiac district salman kalanick notice however payments liquor workplace parliament notice saturday contesting nice rajinikanth longest rcom chase one first district overs \n",
      "실제 요약 : twitter her you biopic medical self to upcoming\n",
      "예측 요약 :  bus bus to get bus bus in mumbai bus held\n",
      "\n",
      "\n",
      "원문 : pichai jamaat laws release kapil manish new build earth came cup everything tuesday everything non hosted paid browser raped mothers looking surface laws laws transgender premises chandigarh browser raped price empty minister said \n",
      "실제 요약 : ec home withdraws minor tax\n",
      "예측 요약 :  bus bus to set up bus in mumbai bus arrested\n",
      "\n",
      "\n",
      "원문 : promises fishing said front use youtube incurred toyota past front would politicians later sarkar batsman makers number runs military love added union agra promises said founder abusive abusive \n",
      "실제 요약 : two the of\n",
      "예측 요약 :  bus bus in mumbai bus for year old bus arrested\n",
      "\n",
      "\n",
      "원문 : arrested lanka stock said whatever nick women notice lakh along indian season monday israeli struck impose elections ishaan finals hosting continuous telescope passed lanka event sports stock \n",
      "실제 요약 : self man named in the police surgery found ranveer\n",
      "예측 요약 :  bus bus in mumbai bus to death in mumbai bus\n",
      "\n",
      "\n",
      "원문 : build since england protect difficult donald detected network mine counting flat iran given relief department targeting pune larry protect coming difficult attack mine \n",
      "실제 요약 : jailed student kin saudi of ties to st\n",
      "예측 요약 :  bus driver stabbed to death in mumbai bus in mumbai\n",
      "\n",
      "\n",
      "원문 : ecosystem decided shift trillion weather dragon join completely richa palace remove experiment companies khattar killed health hit completely ecosystem dropped shaming chamber \n",
      "실제 요약 : do be to best united\n",
      "예측 요약 :  bus to death in mumbai bus for year old girl\n",
      "\n",
      "\n",
      "원문 : lift finding person saying far alleged willing appoint india shareholder congress saudi said thursday invest chaudhary sachin hurricane say texas federation visas health madras award act india convicts raised health chaudhary madras version use wedding happy \n",
      "실제 요약 : exams star we under to dismisses bjp win\n",
      "예측 요약 :  bus bus to kill bus in mumbai bus in mumbai\n",
      "\n",
      "\n",
      "원문 : go man magistrate shift trinamool viewers summoned ministry petrol going viewers kovind match force seven ranveer michael south part floods completely mother viewers high available rate \n",
      "실제 요약 : content to is media in china\n",
      "예측 요약 :  bus bus in mumbai bus for year old bus in\n",
      "\n",
      "\n",
      "원문 : aim jd jd discovered jd hand lunar good team public mahanagara facebook nadu hand must entitled nawazuddin jd hand growth two siddaramaiah nawazuddin users researchers jd also till criticised siddaramaiah within \n",
      "실제 요약 : payments mlas to while in\n",
      "예측 요약 :  bus bus to get bus bus bus in mumbai bus\n",
      "\n",
      "\n",
      "원문 : declared friends appeared goods molested stadium however instead reception pace million world revealed neet district termed guilty pakistan picked water announced paid amendment ever years added \n",
      "실제 요약 : month into since not tripura in\n",
      "예측 요약 :  bus in mumbai bus for year old bus in mumbai\n",
      "\n",
      "\n",
      "원문 : top karnataka personnel including missing rain cooperative missing council rape match government said rai west tuesday child mumbai kohli body ties procurement council haryana secretary \n",
      "실제 요약 : pay user amazon priyanka\n",
      "예측 요약 :  bus to death in bus for year old girl in\n",
      "\n",
      "\n",
      "원문 : know could may ekta lakh claimed talking minister yes rohtak december people apologised suspicion patients eventually party days rohtak said know government land capitalisation iphone neha july main counting attack lakh added \n",
      "실제 요약 : tells with kathua of years isis cm\n",
      "예측 요약 :  bus bus to get bus bus in mumbai bus held\n",
      "\n",
      "\n",
      "원문 : amid best loss delhi donald family half years last board posted ray amid witness premier tamil abuse al presidential various away generated maxwell campaign john \n",
      "실제 요약 : delhi nasa his apps north with how after chief\n",
      "예측 요약 :  bus killed in bus case after year old in mumbai\n",
      "\n",
      "\n",
      "원문 : world life one floor seven time tiger wealth raping kidnapped known final set injury subsidiary sports weekend kidnapped russia european time tiger wealth raping weekend said statement anurag hands religious meeting \n",
      "실제 요약 : lalu to gold up encounter with anthem\n",
      "예측 요약 :  bus bus to mumbai bus bus in mumbai after years\n",
      "\n",
      "\n",
      "원문 : pune parents created ministry difficulties allegations arrested mohammad difficulties pune cut new seized team difficulties shared hospital difficulties market fan tokyo already \n",
      "실제 요약 : jail jailed sc manager can as complaint of\n",
      "예측 요약 :  bus bus to death for trying to mumbai bus bus\n",
      "\n",
      "\n",
      "원문 : man light day partnership uttar wednesday awareness search taiwan mohan learning led mumbai kohli claimed ministry block spell married trip taiwan global start leave claimed partnership \n",
      "실제 요약 : firms is in message over not test\n",
      "예측 요약 :  bus in mumbai bus for year old bus in mumbai\n",
      "\n",
      "\n",
      "원문 : men odd every interface featuring election poll highlight worth got team amount remain also offering cleared nitin possibility growing file certificates homebuyers hospitals spying cm wearing spoken lakshmi \n",
      "실제 요약 : gst shot release uae for does of\n",
      "예측 요약 :  bus bus in mumbai bus bus to set up bus\n",
      "\n",
      "\n",
      "원문 : pm accused sachin president rahul work melbourne pannu commissioner league surfaced record pm board december kxip standing event accused wanted work firm former trump ten exam witnessed league congress match \n",
      "실제 요약 : ceo uk bihar in joins in some\n",
      "예측 요약 :  bus bus in mumbai bus to death in mumbai bus\n",
      "\n",
      "\n",
      "원문 : gave small majority union holders india said paramilitary stopping action added march central details details verdict users space detect said \n",
      "실제 요약 : its to japan person aged\n",
      "예측 요약 :  bus bus in bus bus in mumbai over year old\n",
      "\n",
      "\n"
     ]
    }
   ],
   "source": [
    "for i in range(50, 100):\n",
    "    print(\"원문 :\", seq2text(encoder_input_test[i]))\n",
    "    print(\"실제 요약 :\", seq2headline(decoder_input_test[i]))\n",
    "    print(\"예측 요약 :\", decode_sequence(encoder_input_test[i].reshape(1, text_max_len)))\n",
    "    print(\"\\n\")"
   ]
  },
  {
   "cell_type": "markdown",
   "id": "2e0e9af1",
   "metadata": {},
   "source": [
    "## Summa을 이용해서 추출적 요약해보기"
   ]
  },
  {
   "cell_type": "code",
   "execution_count": 104,
   "id": "dd7c3a27",
   "metadata": {},
   "outputs": [],
   "source": [
    "from summa.summarizer import summarize"
   ]
  },
  {
   "cell_type": "code",
   "execution_count": 155,
   "id": "dea8bec6",
   "metadata": {},
   "outputs": [],
   "source": [
    "encoder_input = encoder_input[indices]\n",
    "original = encoder_input[-n_of_val:]\n",
    "original = src_tokenizer.texts_to_sequences(original)\n",
    "drop_test = [index for index, sentence in enumerate(decoder_input_test) if len(sentence) == 1]\n",
    "original = [sentence for index, sentence in enumerate(original) if index not in drop_test]"
   ]
  },
  {
   "cell_type": "code",
   "execution_count": 153,
   "id": "f2ac5dad",
   "metadata": {},
   "outputs": [
    {
     "name": "stdout",
     "output_type": "stream",
     "text": [
      "원문 : cell maker enable rcom six lied vote walmart ceiling shops plus case enable found walmart policy china plus oil six teach bound sourav died enable asked former jawaharlal policy case bride musical even crore \n",
      "실제 요약 : teacher hong shows he\n",
      "예측 요약 : \n",
      "\n",
      "\n",
      "원문 : world cannot aircraft increase pictures recent instead nearly since teams ranked watch cheteshwar every recent highest confidence ranked trading denmark commissioner kmph strengthening allows sanjay said recent \n",
      "실제 요약 : power breaks month in at fines\n",
      "예측 요약 : \n",
      "\n",
      "\n",
      "원문 : canada give features conversations sets supported indian season bhushan near young products pradesh travel sets cup fruits women mk kajol persons could lions host kajol called could host near young commission \n",
      "실제 요약 : rbi must for in police surgery live\n",
      "예측 요약 : \n",
      "\n",
      "\n",
      "원문 : deep rohan spanish stay rajasthan made coach apologise actor commander rai west rescued student term undertake nihalani congress party trump commander sea allowed live rai west justice senior wedding delay narendra \n",
      "실제 요약 : quit brothers bans cancelled press loan many from gandhi\n",
      "예측 요약 : \n",
      "\n",
      "\n",
      "원문 : man online strongly lying donald school covering reacting singh started technology plans monday poaching penalty million absolutely wimbledon child apologised collaboration fixed kapil goalkeeper andhra plans last year \n",
      "실제 요약 : is srk for at called killed in rahul\n",
      "예측 요약 : \n",
      "\n",
      "\n",
      "원문 : stop francisco north bring indonesian project precious trump sisodia said something dhanush sticks way ireland transgender obtained alleged one technology guard beds april upcoming francisco blamed called whether shutting two bring indonesian \n",
      "실제 요약 : rahul shooting hardik for mumbai\n",
      "예측 요약 : \n",
      "\n",
      "\n",
      "원문 : others tested reported asking want rampal goyal vikas hansraj tamil central laws present secretary truly capital joked netherlands winds bollywood sania transaction remains commission tamil central laws humans high back court died \n",
      "실제 요약 : market peace to body plans party ec bowling\n",
      "예측 요약 : \n",
      "\n",
      "\n",
      "원문 : andhra woman woman saying chaos reporting delhi government trade hours centre abroad get physical humans kathua government said drug provides times saying priyanka captain february saying caption two \n",
      "실제 요약 : delhi claims why me not who\n",
      "예측 요약 : \n",
      "\n",
      "\n",
      "원문 : meghan ceremony mahindra features requested friday prime proud next stations developed icc chief allegedly treat pieces chief victims period year year customers offering efforts issues meghan surpassed similar allegations batsman elon \n",
      "실제 요약 : removes cost debut for head to demand son\n",
      "예측 요약 : \n",
      "\n",
      "\n",
      "원문 : congress notably three really could landed made said men adding catholic new let appearance john state merit costing new let undertaking co leave added april let places born tech congress constable proposal gym \n",
      "실제 요약 : gst pakistan uttar cows after bjp wife\n",
      "예측 요약 : \n",
      "\n",
      "\n",
      "원문 : three free forces could miles house overall asked office war friday game filled grosser wife zero chairman grosser also province bureau prize exam felt filled pay un comes gandhi exam felt said \n",
      "실제 요약 : director pre from shows factory based quarter soldiers\n",
      "예측 요약 : \n",
      "\n",
      "\n",
      "원문 : union scored western career introduced girl take claims six company three polish launched shooting said dates cut beat security years trai us apple wins revenue stores also said criminals apple situation \n",
      "실제 요약 : about as who it bill puts\n",
      "예측 요약 : \n",
      "\n",
      "\n",
      "원문 : named towards injured reportedly lunar public curb restricted cast company date ensure madras report expected date ensure growth team restricted injured services injured sex predecessor alarm appropriate jimmy smart date ensure growth whatsapp report added \n",
      "실제 요약 : more for maha yogi report\n",
      "예측 요약 : \n",
      "\n",
      "\n",
      "원문 : league office war train carrying additionally pm day access cultural reducing spider convert exam witnessed league khan party office war hours feature credit signed pm mandatory weight reacting less continue pakistani mark \n",
      "실제 요약 : plane mobile smith want set in real ceo\n",
      "예측 요약 : \n",
      "\n",
      "\n",
      "원문 : murder sharing known support solar arvind expressed helmets teams ranked three known may coast rejecting saturday doubles loans furniture solar play dr monday leela able electric landing however three known criticised smartphone proposals directly \n",
      "실제 요약 : as varun ball khan saudi\n",
      "예측 요약 : \n",
      "\n",
      "\n",
      "원문 : ring president biological supremo sat called produce using minister anthony clothing aap criminal dead victim killed cheque justice motive games look criminal aap state sat said one eid world clothing sc kapoor sat criminal theresa \n",
      "실제 요약 : off calls rupee pm defeat over\n",
      "예측 요약 : \n",
      "\n",
      "\n",
      "원문 : revised cbfc accounted sawant free forces actor minister comply said government would concerns information government university poverty association dna diagnosed told president nightclub ethereum museum quit congress scientists uk raveena ethereum added \n",
      "실제 요약 : poster calling govt of\n",
      "예측 요약 : \n",
      "\n",
      "\n",
      "원문 : first time india four pandya back court capacity called teams various remains scientists senior reply polling senior employment court akshay died capacity several two month old declared naveen write said shot stocks actor price closing knowledge aamir emails \n",
      "실제 요약 : gets activists auctioned mayawati google fines white officers at action\n",
      "예측 요약 : \n",
      "\n",
      "\n",
      "원문 : back court made train unit arabia targeted occupied arrested fingers accusing refugee user love also said canada use failing state light police earlier give canada team feature virat indian apologised suspicion \n",
      "실제 요약 : gets carrying against launch\n",
      "예측 요약 : \n",
      "\n",
      "\n",
      "원문 : twin visiting knocked photograph dhawan bureau time wrote low commerce thursday tournaments great venkaiah april nepotism steps driver first time match intelligence airline photograph venue german last former plus settlement ahead musical charging cwg entire points cell \n",
      "실제 요약 : hair hits team pak could threatens\n",
      "예측 요약 : \n",
      "\n",
      "\n",
      "원문 : muslims sunday tweeted named claims activists us team marks character facebook parliamentary uidai nearly muslims said choksi metres nagar book performing event girl like customers facebook told named issues threatening bulandshahr notifications priest \n",
      "실제 요약 : term assets loss all\n",
      "예측 요약 : \n",
      "\n",
      "\n",
      "원문 : accused sachin president rahul work january video twitter modi union person green comes notably safe long responded kapoor spat using minister reply august concerns making list lives thinking check stake added \n",
      "실제 요약 : pm in player on uk live\n",
      "예측 요약 : \n",
      "\n",
      "\n",
      "원문 : financial ancient registered stuck lakh recommended started istanbul expose ipl expected central raped son son july response started going son started unchanged addiction unchanged super istanbul change police leaders meanwhile ipl expected recover registered stuck sp \n",
      "실제 요약 : two security blocks slams media him\n",
      "예측 요약 : \n",
      "\n",
      "\n",
      "원문 : area congress notably nike fuel january information government kapoor replacement sure actress wicket delay district aided nuclear minister polls followed monday civil three nuclear minister added followed told time cricket landing treatment defence plot distribute areas exploited \n",
      "실제 요약 : dance in need to up wedding bjp collection\n",
      "예측 요약 : \n",
      "\n",
      "\n",
      "원문 : jackson let biometric founded notably soil actor minister asked breach truck fire films dark reach fire congress ready province declared invest soil could sell biometric tell rocket sell tweeted player congress proposal \n",
      "실제 요약 : rajinikanth cm working to\n",
      "예측 요약 : \n",
      "\n",
      "\n",
      "원문 : three according president malicious biggest called video published five resulting pregnancy using minister army leela country added one detained last year pay taken bjp five vehicles rescue region following year caught \n",
      "실제 요약 : it women off calls level cannot snapchat minister\n",
      "예측 요약 : \n",
      "\n",
      "\n",
      "원문 : times top congress kings fund west circular card circular april accused kings circular surgery invited asked clarified production kings congress kings asked invited fund west \n",
      "실제 요약 : play its started of sports of gender carry players in\n",
      "예측 요약 : \n",
      "\n",
      "\n",
      "원문 : explaining per pakistan air quarter valuation congress president amitabh united gang ill pakistan gandhi air quarter gujarat salman salman love homes represent quarter valuation people helpline blasphemy consumed runs gang \n",
      "실제 요약 : actor shares him sanctions gujarat to\n",
      "예측 요약 : \n",
      "\n",
      "\n",
      "원문 : help wearing city pradesh candidate regret google national senior garbage cargo depression ruled legislative interest dam brother wanted bjp living life russians government mukherjee group could wrong dismissed mukesh depression ruled woman special \n",
      "실제 요약 : up railways video bengal of as eu as\n",
      "예측 요약 : \n",
      "\n",
      "\n",
      "원문 : women armed arjun revealed boundary women inside five intraday rural armed added inside crisis went manipur cricketer year old women revealed telescope least portrayed impose elections \n",
      "실제 요약 : flight from into taka was teaser french goal\n",
      "예측 요약 : \n",
      "\n",
      "\n",
      "원문 : solve batsman peace elections sharma scale cum bank peace elections held onto disorder series solve also degrees cum attempted bulandshahr sushant hooda solve protect crashed peace elections monday cabinet \n",
      "실제 요약 : again family exit on in gave\n",
      "예측 요약 : \n",
      "\n",
      "\n",
      "원문 : air encourage women payments hyderabad notice lakh however cardiac district salman kalanick notice however payments liquor workplace parliament notice saturday contesting nice rajinikanth longest rcom chase one first district overs \n",
      "실제 요약 : twitter her you biopic medical self to upcoming\n",
      "예측 요약 : \n",
      "\n",
      "\n",
      "원문 : pichai jamaat laws release kapil manish new build earth came cup everything tuesday everything non hosted paid browser raped mothers looking surface laws laws transgender premises chandigarh browser raped price empty minister said \n",
      "실제 요약 : ec home withdraws minor tax\n",
      "예측 요약 : \n",
      "\n",
      "\n",
      "원문 : promises fishing said front use youtube incurred toyota past front would politicians later sarkar batsman makers number runs military love added union agra promises said founder abusive abusive \n",
      "실제 요약 : two the of\n",
      "예측 요약 : \n",
      "\n",
      "\n",
      "원문 : arrested lanka stock said whatever nick women notice lakh along indian season monday israeli struck impose elections ishaan finals hosting continuous telescope passed lanka event sports stock \n",
      "실제 요약 : self man named in the police surgery found ranveer\n",
      "예측 요약 : \n",
      "\n",
      "\n",
      "원문 : build since england protect difficult donald detected network mine counting flat iran given relief department targeting pune larry protect coming difficult attack mine \n",
      "실제 요약 : jailed student kin saudi of ties to st\n",
      "예측 요약 : \n",
      "\n",
      "\n",
      "원문 : ecosystem decided shift trillion weather dragon join completely richa palace remove experiment companies khattar killed health hit completely ecosystem dropped shaming chamber \n",
      "실제 요약 : do be to best united\n",
      "예측 요약 : \n",
      "\n",
      "\n",
      "원문 : lift finding person saying far alleged willing appoint india shareholder congress saudi said thursday invest chaudhary sachin hurricane say texas federation visas health madras award act india convicts raised health chaudhary madras version use wedding happy \n",
      "실제 요약 : exams star we under to dismisses bjp win\n",
      "예측 요약 : \n",
      "\n",
      "\n",
      "원문 : go man magistrate shift trinamool viewers summoned ministry petrol going viewers kovind match force seven ranveer michael south part floods completely mother viewers high available rate \n",
      "실제 요약 : content to is media in china\n",
      "예측 요약 : \n",
      "\n",
      "\n",
      "원문 : aim jd jd discovered jd hand lunar good team public mahanagara facebook nadu hand must entitled nawazuddin jd hand growth two siddaramaiah nawazuddin users researchers jd also till criticised siddaramaiah within \n",
      "실제 요약 : payments mlas to while in\n",
      "예측 요약 : \n",
      "\n",
      "\n",
      "원문 : declared friends appeared goods molested stadium however instead reception pace million world revealed neet district termed guilty pakistan picked water announced paid amendment ever years added \n",
      "실제 요약 : month into since not tripura in\n",
      "예측 요약 : \n",
      "\n",
      "\n",
      "원문 : top karnataka personnel including missing rain cooperative missing council rape match government said rai west tuesday child mumbai kohli body ties procurement council haryana secretary \n",
      "실제 요약 : pay user amazon priyanka\n",
      "예측 요약 : \n",
      "\n",
      "\n",
      "원문 : know could may ekta lakh claimed talking minister yes rohtak december people apologised suspicion patients eventually party days rohtak said know government land capitalisation iphone neha july main counting attack lakh added \n",
      "실제 요약 : tells with kathua of years isis cm\n",
      "예측 요약 : \n",
      "\n",
      "\n",
      "원문 : amid best loss delhi donald family half years last board posted ray amid witness premier tamil abuse al presidential various away generated maxwell campaign john \n",
      "실제 요약 : delhi nasa his apps north with how after chief\n",
      "예측 요약 : \n",
      "\n",
      "\n",
      "원문 : world life one floor seven time tiger wealth raping kidnapped known final set injury subsidiary sports weekend kidnapped russia european time tiger wealth raping weekend said statement anurag hands religious meeting \n",
      "실제 요약 : lalu to gold up encounter with anthem\n",
      "예측 요약 : \n",
      "\n",
      "\n",
      "원문 : pune parents created ministry difficulties allegations arrested mohammad difficulties pune cut new seized team difficulties shared hospital difficulties market fan tokyo already \n",
      "실제 요약 : jail jailed sc manager can as complaint of\n",
      "예측 요약 : \n",
      "\n",
      "\n",
      "원문 : man light day partnership uttar wednesday awareness search taiwan mohan learning led mumbai kohli claimed ministry block spell married trip taiwan global start leave claimed partnership \n",
      "실제 요약 : firms is in message over not test\n",
      "예측 요약 : \n",
      "\n",
      "\n",
      "원문 : men odd every interface featuring election poll highlight worth got team amount remain also offering cleared nitin possibility growing file certificates homebuyers hospitals spying cm wearing spoken lakshmi \n",
      "실제 요약 : gst shot release uae for does of\n",
      "예측 요약 : \n",
      "\n",
      "\n",
      "원문 : pm accused sachin president rahul work melbourne pannu commissioner league surfaced record pm board december kxip standing event accused wanted work firm former trump ten exam witnessed league congress match \n",
      "실제 요약 : ceo uk bihar in joins in some\n",
      "예측 요약 : \n",
      "\n",
      "\n",
      "원문 : gave small majority union holders india said paramilitary stopping action added march central details details verdict users space detect said \n",
      "실제 요약 : its to japan person aged\n",
      "예측 요약 : \n",
      "\n",
      "\n"
     ]
    }
   ],
   "source": [
    "# ratio 기준\n",
    "for i in range(50, 100):\n",
    "    print(\"원문 :\", seq2text(encoder_input_test[i]))\n",
    "    print(\"실제 요약 :\", seq2headline(decoder_input_test[i]))\n",
    "    print(\"예측 요약 :\", summarize(text = seq2text(original[i]), ratio = 0.2))\n",
    "    print(\"\\n\")"
   ]
  },
  {
   "cell_type": "code",
   "execution_count": 154,
   "id": "91109a38",
   "metadata": {},
   "outputs": [
    {
     "name": "stdout",
     "output_type": "stream",
     "text": [
      "원문 : cell maker enable rcom six lied vote walmart ceiling shops plus case enable found walmart policy china plus oil six teach bound sourav died enable asked former jawaharlal policy case bride musical even crore \n",
      "실제 요약 : teacher hong shows he\n",
      "예측 요약 : \n",
      "\n",
      "\n",
      "원문 : world cannot aircraft increase pictures recent instead nearly since teams ranked watch cheteshwar every recent highest confidence ranked trading denmark commissioner kmph strengthening allows sanjay said recent \n",
      "실제 요약 : power breaks month in at fines\n",
      "예측 요약 : \n",
      "\n",
      "\n",
      "원문 : canada give features conversations sets supported indian season bhushan near young products pradesh travel sets cup fruits women mk kajol persons could lions host kajol called could host near young commission \n",
      "실제 요약 : rbi must for in police surgery live\n",
      "예측 요약 : \n",
      "\n",
      "\n",
      "원문 : deep rohan spanish stay rajasthan made coach apologise actor commander rai west rescued student term undertake nihalani congress party trump commander sea allowed live rai west justice senior wedding delay narendra \n",
      "실제 요약 : quit brothers bans cancelled press loan many from gandhi\n",
      "예측 요약 : \n",
      "\n",
      "\n",
      "원문 : man online strongly lying donald school covering reacting singh started technology plans monday poaching penalty million absolutely wimbledon child apologised collaboration fixed kapil goalkeeper andhra plans last year \n",
      "실제 요약 : is srk for at called killed in rahul\n",
      "예측 요약 : \n",
      "\n",
      "\n",
      "원문 : stop francisco north bring indonesian project precious trump sisodia said something dhanush sticks way ireland transgender obtained alleged one technology guard beds april upcoming francisco blamed called whether shutting two bring indonesian \n",
      "실제 요약 : rahul shooting hardik for mumbai\n",
      "예측 요약 : \n",
      "\n",
      "\n",
      "원문 : others tested reported asking want rampal goyal vikas hansraj tamil central laws present secretary truly capital joked netherlands winds bollywood sania transaction remains commission tamil central laws humans high back court died \n",
      "실제 요약 : market peace to body plans party ec bowling\n",
      "예측 요약 : \n",
      "\n",
      "\n",
      "원문 : andhra woman woman saying chaos reporting delhi government trade hours centre abroad get physical humans kathua government said drug provides times saying priyanka captain february saying caption two \n",
      "실제 요약 : delhi claims why me not who\n",
      "예측 요약 : \n",
      "\n",
      "\n",
      "원문 : meghan ceremony mahindra features requested friday prime proud next stations developed icc chief allegedly treat pieces chief victims period year year customers offering efforts issues meghan surpassed similar allegations batsman elon \n",
      "실제 요약 : removes cost debut for head to demand son\n",
      "예측 요약 : \n",
      "\n",
      "\n",
      "원문 : congress notably three really could landed made said men adding catholic new let appearance john state merit costing new let undertaking co leave added april let places born tech congress constable proposal gym \n",
      "실제 요약 : gst pakistan uttar cows after bjp wife\n",
      "예측 요약 : \n",
      "\n",
      "\n",
      "원문 : three free forces could miles house overall asked office war friday game filled grosser wife zero chairman grosser also province bureau prize exam felt filled pay un comes gandhi exam felt said \n",
      "실제 요약 : director pre from shows factory based quarter soldiers\n",
      "예측 요약 : \n",
      "\n",
      "\n",
      "원문 : union scored western career introduced girl take claims six company three polish launched shooting said dates cut beat security years trai us apple wins revenue stores also said criminals apple situation \n",
      "실제 요약 : about as who it bill puts\n",
      "예측 요약 : \n",
      "\n",
      "\n",
      "원문 : named towards injured reportedly lunar public curb restricted cast company date ensure madras report expected date ensure growth team restricted injured services injured sex predecessor alarm appropriate jimmy smart date ensure growth whatsapp report added \n",
      "실제 요약 : more for maha yogi report\n",
      "예측 요약 : \n",
      "\n",
      "\n",
      "원문 : league office war train carrying additionally pm day access cultural reducing spider convert exam witnessed league khan party office war hours feature credit signed pm mandatory weight reacting less continue pakistani mark \n",
      "실제 요약 : plane mobile smith want set in real ceo\n",
      "예측 요약 : \n",
      "\n",
      "\n",
      "원문 : murder sharing known support solar arvind expressed helmets teams ranked three known may coast rejecting saturday doubles loans furniture solar play dr monday leela able electric landing however three known criticised smartphone proposals directly \n",
      "실제 요약 : as varun ball khan saudi\n",
      "예측 요약 : \n",
      "\n",
      "\n",
      "원문 : ring president biological supremo sat called produce using minister anthony clothing aap criminal dead victim killed cheque justice motive games look criminal aap state sat said one eid world clothing sc kapoor sat criminal theresa \n",
      "실제 요약 : off calls rupee pm defeat over\n",
      "예측 요약 : \n",
      "\n",
      "\n",
      "원문 : revised cbfc accounted sawant free forces actor minister comply said government would concerns information government university poverty association dna diagnosed told president nightclub ethereum museum quit congress scientists uk raveena ethereum added \n",
      "실제 요약 : poster calling govt of\n",
      "예측 요약 : \n",
      "\n",
      "\n",
      "원문 : first time india four pandya back court capacity called teams various remains scientists senior reply polling senior employment court akshay died capacity several two month old declared naveen write said shot stocks actor price closing knowledge aamir emails \n",
      "실제 요약 : gets activists auctioned mayawati google fines white officers at action\n",
      "예측 요약 : \n",
      "\n",
      "\n",
      "원문 : back court made train unit arabia targeted occupied arrested fingers accusing refugee user love also said canada use failing state light police earlier give canada team feature virat indian apologised suspicion \n",
      "실제 요약 : gets carrying against launch\n",
      "예측 요약 : \n",
      "\n",
      "\n",
      "원문 : twin visiting knocked photograph dhawan bureau time wrote low commerce thursday tournaments great venkaiah april nepotism steps driver first time match intelligence airline photograph venue german last former plus settlement ahead musical charging cwg entire points cell \n",
      "실제 요약 : hair hits team pak could threatens\n",
      "예측 요약 : \n",
      "\n",
      "\n",
      "원문 : muslims sunday tweeted named claims activists us team marks character facebook parliamentary uidai nearly muslims said choksi metres nagar book performing event girl like customers facebook told named issues threatening bulandshahr notifications priest \n",
      "실제 요약 : term assets loss all\n",
      "예측 요약 : \n",
      "\n",
      "\n",
      "원문 : accused sachin president rahul work january video twitter modi union person green comes notably safe long responded kapoor spat using minister reply august concerns making list lives thinking check stake added \n",
      "실제 요약 : pm in player on uk live\n",
      "예측 요약 : \n",
      "\n",
      "\n",
      "원문 : financial ancient registered stuck lakh recommended started istanbul expose ipl expected central raped son son july response started going son started unchanged addiction unchanged super istanbul change police leaders meanwhile ipl expected recover registered stuck sp \n",
      "실제 요약 : two security blocks slams media him\n",
      "예측 요약 : \n",
      "\n",
      "\n",
      "원문 : area congress notably nike fuel january information government kapoor replacement sure actress wicket delay district aided nuclear minister polls followed monday civil three nuclear minister added followed told time cricket landing treatment defence plot distribute areas exploited \n",
      "실제 요약 : dance in need to up wedding bjp collection\n",
      "예측 요약 : \n",
      "\n",
      "\n",
      "원문 : jackson let biometric founded notably soil actor minister asked breach truck fire films dark reach fire congress ready province declared invest soil could sell biometric tell rocket sell tweeted player congress proposal \n",
      "실제 요약 : rajinikanth cm working to\n",
      "예측 요약 : \n",
      "\n",
      "\n",
      "원문 : three according president malicious biggest called video published five resulting pregnancy using minister army leela country added one detained last year pay taken bjp five vehicles rescue region following year caught \n",
      "실제 요약 : it women off calls level cannot snapchat minister\n",
      "예측 요약 : \n",
      "\n",
      "\n",
      "원문 : times top congress kings fund west circular card circular april accused kings circular surgery invited asked clarified production kings congress kings asked invited fund west \n",
      "실제 요약 : play its started of sports of gender carry players in\n",
      "예측 요약 : \n",
      "\n",
      "\n",
      "원문 : explaining per pakistan air quarter valuation congress president amitabh united gang ill pakistan gandhi air quarter gujarat salman salman love homes represent quarter valuation people helpline blasphemy consumed runs gang \n",
      "실제 요약 : actor shares him sanctions gujarat to\n",
      "예측 요약 : \n",
      "\n",
      "\n",
      "원문 : help wearing city pradesh candidate regret google national senior garbage cargo depression ruled legislative interest dam brother wanted bjp living life russians government mukherjee group could wrong dismissed mukesh depression ruled woman special \n",
      "실제 요약 : up railways video bengal of as eu as\n",
      "예측 요약 : \n",
      "\n",
      "\n",
      "원문 : women armed arjun revealed boundary women inside five intraday rural armed added inside crisis went manipur cricketer year old women revealed telescope least portrayed impose elections \n",
      "실제 요약 : flight from into taka was teaser french goal\n",
      "예측 요약 : \n",
      "\n",
      "\n",
      "원문 : solve batsman peace elections sharma scale cum bank peace elections held onto disorder series solve also degrees cum attempted bulandshahr sushant hooda solve protect crashed peace elections monday cabinet \n",
      "실제 요약 : again family exit on in gave\n",
      "예측 요약 : \n",
      "\n",
      "\n",
      "원문 : air encourage women payments hyderabad notice lakh however cardiac district salman kalanick notice however payments liquor workplace parliament notice saturday contesting nice rajinikanth longest rcom chase one first district overs \n",
      "실제 요약 : twitter her you biopic medical self to upcoming\n",
      "예측 요약 : \n",
      "\n",
      "\n",
      "원문 : pichai jamaat laws release kapil manish new build earth came cup everything tuesday everything non hosted paid browser raped mothers looking surface laws laws transgender premises chandigarh browser raped price empty minister said \n",
      "실제 요약 : ec home withdraws minor tax\n",
      "예측 요약 : \n",
      "\n",
      "\n",
      "원문 : promises fishing said front use youtube incurred toyota past front would politicians later sarkar batsman makers number runs military love added union agra promises said founder abusive abusive \n",
      "실제 요약 : two the of\n",
      "예측 요약 : \n",
      "\n",
      "\n",
      "원문 : arrested lanka stock said whatever nick women notice lakh along indian season monday israeli struck impose elections ishaan finals hosting continuous telescope passed lanka event sports stock \n",
      "실제 요약 : self man named in the police surgery found ranveer\n",
      "예측 요약 : \n",
      "\n",
      "\n",
      "원문 : build since england protect difficult donald detected network mine counting flat iran given relief department targeting pune larry protect coming difficult attack mine \n",
      "실제 요약 : jailed student kin saudi of ties to st\n",
      "예측 요약 : \n",
      "\n",
      "\n",
      "원문 : ecosystem decided shift trillion weather dragon join completely richa palace remove experiment companies khattar killed health hit completely ecosystem dropped shaming chamber \n",
      "실제 요약 : do be to best united\n",
      "예측 요약 : \n",
      "\n",
      "\n",
      "원문 : lift finding person saying far alleged willing appoint india shareholder congress saudi said thursday invest chaudhary sachin hurricane say texas federation visas health madras award act india convicts raised health chaudhary madras version use wedding happy \n",
      "실제 요약 : exams star we under to dismisses bjp win\n",
      "예측 요약 : \n",
      "\n",
      "\n",
      "원문 : go man magistrate shift trinamool viewers summoned ministry petrol going viewers kovind match force seven ranveer michael south part floods completely mother viewers high available rate \n",
      "실제 요약 : content to is media in china\n",
      "예측 요약 : \n",
      "\n",
      "\n",
      "원문 : aim jd jd discovered jd hand lunar good team public mahanagara facebook nadu hand must entitled nawazuddin jd hand growth two siddaramaiah nawazuddin users researchers jd also till criticised siddaramaiah within \n",
      "실제 요약 : payments mlas to while in\n",
      "예측 요약 : \n",
      "\n",
      "\n",
      "원문 : declared friends appeared goods molested stadium however instead reception pace million world revealed neet district termed guilty pakistan picked water announced paid amendment ever years added \n",
      "실제 요약 : month into since not tripura in\n",
      "예측 요약 : \n",
      "\n",
      "\n",
      "원문 : top karnataka personnel including missing rain cooperative missing council rape match government said rai west tuesday child mumbai kohli body ties procurement council haryana secretary \n",
      "실제 요약 : pay user amazon priyanka\n",
      "예측 요약 : \n",
      "\n",
      "\n",
      "원문 : know could may ekta lakh claimed talking minister yes rohtak december people apologised suspicion patients eventually party days rohtak said know government land capitalisation iphone neha july main counting attack lakh added \n",
      "실제 요약 : tells with kathua of years isis cm\n",
      "예측 요약 : \n",
      "\n",
      "\n",
      "원문 : amid best loss delhi donald family half years last board posted ray amid witness premier tamil abuse al presidential various away generated maxwell campaign john \n",
      "실제 요약 : delhi nasa his apps north with how after chief\n",
      "예측 요약 : \n",
      "\n",
      "\n",
      "원문 : world life one floor seven time tiger wealth raping kidnapped known final set injury subsidiary sports weekend kidnapped russia european time tiger wealth raping weekend said statement anurag hands religious meeting \n",
      "실제 요약 : lalu to gold up encounter with anthem\n",
      "예측 요약 : \n",
      "\n",
      "\n",
      "원문 : pune parents created ministry difficulties allegations arrested mohammad difficulties pune cut new seized team difficulties shared hospital difficulties market fan tokyo already \n",
      "실제 요약 : jail jailed sc manager can as complaint of\n",
      "예측 요약 : \n",
      "\n",
      "\n",
      "원문 : man light day partnership uttar wednesday awareness search taiwan mohan learning led mumbai kohli claimed ministry block spell married trip taiwan global start leave claimed partnership \n",
      "실제 요약 : firms is in message over not test\n",
      "예측 요약 : \n",
      "\n",
      "\n",
      "원문 : men odd every interface featuring election poll highlight worth got team amount remain also offering cleared nitin possibility growing file certificates homebuyers hospitals spying cm wearing spoken lakshmi \n",
      "실제 요약 : gst shot release uae for does of\n",
      "예측 요약 : \n",
      "\n",
      "\n",
      "원문 : pm accused sachin president rahul work melbourne pannu commissioner league surfaced record pm board december kxip standing event accused wanted work firm former trump ten exam witnessed league congress match \n",
      "실제 요약 : ceo uk bihar in joins in some\n",
      "예측 요약 : \n",
      "\n",
      "\n",
      "원문 : gave small majority union holders india said paramilitary stopping action added march central details details verdict users space detect said \n",
      "실제 요약 : its to japan person aged\n",
      "예측 요약 : \n",
      "\n",
      "\n"
     ]
    }
   ],
   "source": [
    "# word 기준\n",
    "for i in range(50, 100):\n",
    "    print(\"원문 :\", seq2text(encoder_input_test[i]))\n",
    "    print(\"실제 요약 :\", seq2headline(decoder_input_test[i]))\n",
    "    print(\"예측 요약 :\", summarize(text = seq2text(original[i]), words = 45))\n",
    "    print(\"\\n\")"
   ]
  }
 ],
 "metadata": {
  "kernelspec": {
   "display_name": "Python 3 (ipykernel)",
   "language": "python",
   "name": "python3"
  },
  "language_info": {
   "codemirror_mode": {
    "name": "ipython",
    "version": 3
   },
   "file_extension": ".py",
   "mimetype": "text/x-python",
   "name": "python",
   "nbconvert_exporter": "python",
   "pygments_lexer": "ipython3",
   "version": "3.9.7"
  }
 },
 "nbformat": 4,
 "nbformat_minor": 5
}
